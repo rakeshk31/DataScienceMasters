{
 "cells": [
  {
   "cell_type": "raw",
   "id": "360f0b0b-9b9c-47bb-ae7e-d0caa06b6294",
   "metadata": {},
   "source": [
    "##Q1. Which keyword is used to create a function? Create a function to return a list of odd numbers in the range of 1 to 25.\n",
    "Ans : In Python, the keyword used to create a function is \"def\"."
   ]
  },
  {
   "cell_type": "code",
   "execution_count": 4,
   "id": "9f5c261b-d443-4ab1-b6ab-9f9f054da445",
   "metadata": {},
   "outputs": [],
   "source": [
    "def get_odd_numbers():\n",
    "    odd_numbers = []\n",
    "    for num in range(1, 26):\n",
    "        if num % 2 != 0:\n",
    "            odd_numbers.append(num)\n",
    "    return odd_numbers"
   ]
  },
  {
   "cell_type": "code",
   "execution_count": 5,
   "id": "4ae036d3-628b-4228-b526-bd1f666c195e",
   "metadata": {},
   "outputs": [
    {
     "name": "stdout",
     "output_type": "stream",
     "text": [
      "[1, 3, 5, 7, 9, 11, 13, 15, 17, 19, 21, 23, 25]\n"
     ]
    }
   ],
   "source": [
    "print(get_odd_numbers())"
   ]
  },
  {
   "cell_type": "raw",
   "id": "429fbaf7-fcd6-4067-b5cd-3cc17132536a",
   "metadata": {},
   "source": [
    "##Q2  Why *args and **kwargs is used in some functions? Create a function each for *args and **kwargs to demonstrate their use.\n",
    "A : The *args parameter allows a function to accept any number of positional arguments\n",
    "    The **kwargs parameter allows a function to accept any number of keyword arguments, which are then collected into a dictionary          within the function"
   ]
  },
  {
   "cell_type": "code",
   "execution_count": 7,
   "id": "505eb86b-c609-4b40-9099-834e2eea49c8",
   "metadata": {},
   "outputs": [
    {
     "name": "stdout",
     "output_type": "stream",
     "text": [
      "6\n"
     ]
    }
   ],
   "source": [
    "def test(*args):\n",
    "    total = 0\n",
    "    for num in args:\n",
    "        total += num\n",
    "    return total\n",
    "print(test(1, 2, 3))\n"
   ]
  },
  {
   "cell_type": "code",
   "execution_count": 8,
   "id": "c2f4c7a3-4ddf-4b86-a611-b9b385506f8d",
   "metadata": {},
   "outputs": [],
   "source": [
    "def test1(**kwargs):\n",
    "    for key, value in kwargs.items():\n",
    "        print(key, \": \", value)"
   ]
  },
  {
   "cell_type": "code",
   "execution_count": 11,
   "id": "687dc047-6207-4829-8ebd-ff579516c14d",
   "metadata": {},
   "outputs": [
    {
     "name": "stdout",
     "output_type": "stream",
     "text": [
      "name :  Rakesh\n",
      "City :  Bangalore\n",
      "None\n"
     ]
    }
   ],
   "source": [
    "print(test1(name = \"Rakesh\", City = \"Bangalore\"))"
   ]
  },
  {
   "cell_type": "code",
   "execution_count": 12,
   "id": "f7633f2d-a754-42a3-be77-61e0747b4b48",
   "metadata": {},
   "outputs": [],
   "source": [
    "##Q3. What is an iterator in python? Name the method used to initialise the iterator object and the methodused for iteration. Use these methods to print the first five elements of the given list [2, 4, 6, 8, 10, 12, 14, 16,18, 20].\n",
    "## Anwser : An iterator in Python is an object that can be used to iterate over a sequence of values. \n",
    "##           The iter() function takes an iterable object as input and returns an iterator object. The next() function takes an iterator object as input and returns the next element in the sequence"
   ]
  },
  {
   "cell_type": "code",
   "execution_count": 13,
   "id": "e3685074-65e7-4d57-8e39-b3362eb70c86",
   "metadata": {},
   "outputs": [
    {
     "name": "stdout",
     "output_type": "stream",
     "text": [
      "2\n",
      "4\n",
      "6\n",
      "8\n",
      "10\n"
     ]
    }
   ],
   "source": [
    "l = [2, 4, 6, 8, 10, 12, 14, 16, 18, 20]\n",
    "\n",
    "# Create an iterator object from the list\n",
    "iterator = iter(l)\n",
    "\n",
    "# Print the first five elements of the iterator\n",
    "for i in range(5):\n",
    "    print(next(iterator))"
   ]
  },
  {
   "cell_type": "code",
   "execution_count": 14,
   "id": "d6950d92-8cd9-473c-8d39-1b691238b931",
   "metadata": {},
   "outputs": [],
   "source": [
    "##Q4. What is a generator function in python? Why yield keyword is used? Give an example of a generator function.\n",
    "## A : In Python, generator functions are a special type of function that allows you to define an iterator. \n",
    "##     They are defined using the yield keyword instead of return. \n",
    "##     When a generator function is called, it returns an iterator object that can be iterated over to retrieve values one at a time. \n",
    "##     This provides a convenient way to generate a sequence of values without storing them all in memory at once.\n"
   ]
  },
  {
   "cell_type": "code",
   "execution_count": 15,
   "id": "22e43c49-1590-4f02-94b3-808c3e1e0e72",
   "metadata": {},
   "outputs": [],
   "source": [
    "def testfib(n):\n",
    "    a,b = 0,1\n",
    "    for i in range(n):\n",
    "        yield a\n",
    "        a,b = b, a+b"
   ]
  },
  {
   "cell_type": "code",
   "execution_count": 16,
   "id": "7f806bc9-b3d1-4bba-8171-0c320c2977f5",
   "metadata": {},
   "outputs": [
    {
     "data": {
      "text/plain": [
       "<generator object testfib at 0x7f0ae4739cb0>"
      ]
     },
     "execution_count": 16,
     "metadata": {},
     "output_type": "execute_result"
    }
   ],
   "source": [
    "testfib(10)"
   ]
  },
  {
   "cell_type": "code",
   "execution_count": 18,
   "id": "7675327a-6707-4485-a190-a9b92f7f5f7a",
   "metadata": {},
   "outputs": [
    {
     "name": "stdout",
     "output_type": "stream",
     "text": [
      "0\n",
      "1\n",
      "1\n",
      "2\n",
      "3\n",
      "5\n",
      "8\n",
      "13\n",
      "21\n",
      "34\n"
     ]
    }
   ],
   "source": [
    "for i in testfib(10):\n",
    "    print(i)"
   ]
  },
  {
   "cell_type": "code",
   "execution_count": 21,
   "id": "c5b062d1-bd8a-4970-91f7-da7f01ced718",
   "metadata": {},
   "outputs": [
    {
     "name": "stdout",
     "output_type": "stream",
     "text": [
      "2\n",
      "3\n",
      "5\n",
      "7\n",
      "11\n",
      "13\n",
      "17\n",
      "19\n",
      "23\n",
      "29\n",
      "31\n",
      "37\n",
      "41\n",
      "43\n",
      "47\n",
      "53\n",
      "59\n",
      "61\n",
      "67\n",
      "71\n"
     ]
    }
   ],
   "source": [
    "##Q5. Create a generator function for prime numbers less than 1000. Use the next() method to print the first 20 prime numbers.\n",
    "def prime_generator():\n",
    "    primes = []\n",
    "    num = 2\n",
    "    while True:\n",
    "        if all(num % prime != 0 for prime in primes):\n",
    "            primes.append(num)\n",
    "            yield num\n",
    "        num += 1\n",
    "\n",
    "# Using the generator function\n",
    "prime_gen = prime_generator()\n",
    "\n",
    "# Print the first 20 prime numbers\n",
    "for _ in range(20):\n",
    "    prime = next(prime_gen)\n",
    "    print(prime)"
   ]
  },
  {
   "cell_type": "code",
   "execution_count": null,
   "id": "1ffdeb1c-2c6e-47c1-99c0-cb9de9cdc981",
   "metadata": {},
   "outputs": [],
   "source": []
  },
  {
   "cell_type": "code",
   "execution_count": null,
   "id": "bea9ee2b-012c-48bc-a116-a8207726ac96",
   "metadata": {},
   "outputs": [],
   "source": []
  }
 ],
 "metadata": {
  "kernelspec": {
   "display_name": "Python 3 (ipykernel)",
   "language": "python",
   "name": "python3"
  },
  "language_info": {
   "codemirror_mode": {
    "name": "ipython",
    "version": 3
   },
   "file_extension": ".py",
   "mimetype": "text/x-python",
   "name": "python",
   "nbconvert_exporter": "python",
   "pygments_lexer": "ipython3",
   "version": "3.10.8"
  }
 },
 "nbformat": 4,
 "nbformat_minor": 5
}
