{
 "cells": [
  {
   "cell_type": "code",
   "execution_count": 1,
   "id": "e1b3b097-2a08-47f0-bf11-b983ad3532a0",
   "metadata": {},
   "outputs": [],
   "source": [
    "#Q1. What is a database? Differentiate between SQL and NoSQL databases.\n",
    "# A : A database is a collection of data that is organized so that it can be easily accessed, managed, and updated\n",
    "#     SQL databases are relational databases. This means that data is stored in tables, which are made up of rows and columns. Each row represents a single record, and each column represents a single piece of data about that record. \n",
    "#     NoSQL databases are non-relational databases. This means that data is not stored in tables, but in other ways, such as key-value pairs, documents, or graphs. NoSQL databases are often used for storing large amounts of unstructured data"
   ]
  },
  {
   "cell_type": "code",
   "execution_count": 2,
   "id": "9c1825e4-01c4-4b4a-adc1-c0aaa4a3b4e8",
   "metadata": {},
   "outputs": [],
   "source": [
    "# Q2. What is DDL? Explain why CREATE, DROP, ALTER, and TRUNCATE are used with an example.\n",
    "#  A : DDL stands for Data Definition Language. It is a set of SQL commands that are used to define the structure of a database. DDL commands are used to create, alter, and drop database objects, such as tables, views, and stored procedures.\n",
    "#      CREATE : This command is used to create new database objects. For example, the following command creates a new table called customers:\n",
    "   # CREATE TABLE customers (\n",
    "#   customer_id INT NOT NULL,\n",
    "#   first_name VARCHAR(255) NOT NULL,\n",
    "#   last_name VARCHAR(255) NOT NULL,\n",
    "#   email VARCHAR(255) NOT NULL\n",
    "#     );"
   ]
  },
  {
   "cell_type": "code",
   "execution_count": 3,
   "id": "6477a8c4-c6e3-4617-8c75-0c7b592542cf",
   "metadata": {},
   "outputs": [],
   "source": [
    "# DROP: This command is used to delete database objects.\n",
    "# DROP TABLE customers;\n",
    "# ALTER: This command is used to modify database objects.\n",
    "# ALTER TABLE customers ADD COLUMN phone_number VARCHAR(255);\n",
    "# TRUNCATE: This command is used to delete all rows from a table. Unlike the DROP command, the TRUNCATE command does not delete the table structure.\n",
    "# TRUNCATE TABLE customers;"
   ]
  },
  {
   "cell_type": "code",
   "execution_count": 4,
   "id": "7b45a2b1-483c-4ad9-974d-a24020bbfe61",
   "metadata": {},
   "outputs": [],
   "source": [
    "# Q3. What is DML? Explain INSERT, UPDATE, and DELETE with an example.\n",
    "# DML stands for Data Manipulation Language. It is a subset of SQL (Structured Query Language) used to interact with a database and perform operations such as inserting, updating, and deleting data\n",
    "\n",
    "# INSERT: The INSERT statement is used to add new rows of data into a table.\n",
    "# Example : INSERT INTO Customers (CustomerID, FirstName, LastName, Email)\n",
    "# VALUES (1, 'John', 'Doe', 'john.doe@example.com');\n",
    "\n",
    "# UPDATE: The UPDATE statement is used to modify existing data in a table\n",
    "# UPDATE Customers\n",
    "# SET Email = 'newemail@example.com'\n",
    "# WHERE CustomerID = 1;\n",
    "\n",
    "# DELETE: The DELETE statement is used to remove data from a table\n",
    "# DELETE FROM Customers\n",
    "# WHERE CustomerID = 1;\n"
   ]
  },
  {
   "cell_type": "code",
   "execution_count": 5,
   "id": "fd2b630c-b9f0-4d4d-a6c3-c225d3fcb73a",
   "metadata": {},
   "outputs": [],
   "source": [
    "# Q4. What is DQL? Explain SELECT with an example.\n",
    "# A : DQL stands for Data Query Language. It is a subset of SQL (Structured Query Language) used to retrieve data from a database. The primary command used in DQL is SELECT, which allows you to query the database and retrieve specific data based on specified conditions.\n",
    "# Example : \n",
    "# SELECT FirstName, LastName, Email\n",
    "# FROM Customers\n",
    "# WHERE Country = 'USA';\n"
   ]
  },
  {
   "cell_type": "code",
   "execution_count": 6,
   "id": "825dc435-af9f-414e-98f1-fee1f6e2fa9a",
   "metadata": {},
   "outputs": [],
   "source": [
    "# Q5. Explain Primary Key and Foreign Key.\n",
    "# Ans : Primary keys and foreign keys are two important concepts in SQL that are used to maintain the relationships between tables.\n",
    "\n",
    "# A primary key is a column or group of columns in a table that uniquely identifies each row in the table. A primary key cannot contain duplicate values, and it cannot be NULL.\n",
    "\n",
    "# A foreign key is a column or group of columns in a table that references the primary key of another table. A foreign key is used to establish a relationship between two tables. The foreign key column must contain the same values as the primary key column in the referenced table.\n",
    "\n",
    "# For example, let's say we have a table called customers that has a primary key called customer_id. We also have a table called orders that has a foreign key called customer_id. \n",
    "# The customer_id column in the orders table must contain the same values as the customer_id column in the customers table. \n",
    "# This ensures that each order is associated with a unique customer."
   ]
  },
  {
   "cell_type": "code",
   "execution_count": null,
   "id": "1a515937-7ab7-4758-a56b-c570de99968c",
   "metadata": {},
   "outputs": [],
   "source": [
    "# # Q6.Write a python code to connect MySQL to python. Explain the cursor() and execute() method.\n",
    "# A : import mysql.connector\n",
    "\n",
    "# # Establish the connection\n",
    "# cnx = mysql.connector.connect(\n",
    "#     host=\"localhost\",\n",
    "#     user=\"your_username\",\n",
    "#     password=\"your_password\",\n",
    "#     database=\"your_database\"\n",
    "# )\n",
    "\n",
    "# # Create a cursor object\n",
    "# cursor = cnx.cursor()\n",
    "\n",
    "# # Execute a query\n",
    "# query = \"SELECT * FROM your_table\"\n",
    "# cursor.execute(query)\n",
    "\n",
    "# # Fetch the results\n",
    "# results = cursor.fetchall()\n",
    "\n",
    "# # Process the results\n",
    "# for row in results:\n",
    "#     # Perform required operations with the data\n",
    "#     print(row)\n",
    "\n",
    "# # Close the cursor and connection\n",
    "# cursor.close()\n",
    "# cnx.close()\n"
   ]
  },
  {
   "cell_type": "code",
   "execution_count": null,
   "id": "109d73c2-0ca8-4afb-b4c9-a634a54610a6",
   "metadata": {},
   "outputs": [],
   "source": [
    "# cursor() method: This method creates a cursor object that allows you to execute SQL statements and retrieve results from the database. \n",
    "# execute() method: This method is used to execute an SQL query or command. It takes the SQL statement as a parameter and executes it using the cursor object."
   ]
  },
  {
   "cell_type": "code",
   "execution_count": null,
   "id": "6cb1ff9a-6d20-4525-bc6b-1d9b7450949c",
   "metadata": {},
   "outputs": [],
   "source": [
    "# Q7. Give the order of execution of SQL clauses in an SQL query.\n",
    "# A : The order of execution of clauses in an SQL query generally follows the sequence below:\n",
    "\n",
    "# FROM: The FROM clause specifies the table or tables from which the data will be retrieved.\n",
    "\n",
    "# JOIN: If the query involves joining multiple tables, the JOIN clause specifies how the tables are related and how the data should be combined.\n",
    "\n",
    "# WHERE: The WHERE clause filters the rows based on specified conditions, allowing you to retrieve only the rows that meet certain criteria.\n",
    "\n",
    "# GROUP BY: The GROUP BY clause is used to group rows based on specified columns. It is often used in conjunction with aggregate functions like SUM, COUNT, AVG, etc.\n",
    "\n",
    "# HAVING: The HAVING clause filters the groups created by the GROUP BY clause based on specified conditions. It allows you to filter the grouped data further.\n",
    "\n",
    "# SELECT: The SELECT clause specifies the columns to be included in the result set. It determines which data will be retrieved from the tables.\n",
    "\n",
    "# DISTINCT: The DISTINCT keyword eliminates duplicate rows from the result set, keeping only the unique rows.\n",
    "\n",
    "# ORDER BY: The ORDER BY clause is used to sort the result set based on specified columns, either in ascending (ASC) or descending (DESC) order."
   ]
  }
 ],
 "metadata": {
  "kernelspec": {
   "display_name": "Python 3 (ipykernel)",
   "language": "python",
   "name": "python3"
  },
  "language_info": {
   "codemirror_mode": {
    "name": "ipython",
    "version": 3
   },
   "file_extension": ".py",
   "mimetype": "text/x-python",
   "name": "python",
   "nbconvert_exporter": "python",
   "pygments_lexer": "ipython3",
   "version": "3.10.8"
  }
 },
 "nbformat": 4,
 "nbformat_minor": 5
}
