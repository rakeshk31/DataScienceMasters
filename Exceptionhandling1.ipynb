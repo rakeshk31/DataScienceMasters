{
 "cells": [
  {
   "cell_type": "raw",
   "id": "1822206d-a9e2-4f79-81eb-dd088ad2361c",
   "metadata": {},
   "source": [
    "Q1.what is an exception in Python? write the difference between exceptions and syntax errors\n",
    "A.In Python, an exception is an event that occurs during the execution of a program that disrupts the normal flow of instructions. When an exceptional condition is encountered, an exception object is created to represent that particular error or unusual situation. This exception object can be \"raised\" or \"thrown\" to indicate that an exceptional event has occurred.\n",
    "On the other hand, syntax errors are errors that occur during the parsing of the code. They are detected by the Python interpreter before the program is executed. Syntax errors occur when the code does not conform to the syntax rules of the Python language."
   ]
  },
  {
   "cell_type": "raw",
   "id": "4a8cdfc4-de49-47ae-aa85-a817e432c45e",
   "metadata": {},
   "source": [
    "Q2. what happens when an exception is not handled ? explain with an example\n",
    "A : When an exception is not handled in Python, it leads to an unhandled exception, which causes the program to terminate abruptly and display an error message, along with a traceback that shows the sequence of function calls and the line where the exception occurred."
   ]
  },
  {
   "cell_type": "code",
   "execution_count": 1,
   "id": "d902fb37-f06a-4b7c-b642-b01dc104b863",
   "metadata": {},
   "outputs": [
    {
     "ename": "ZeroDivisionError",
     "evalue": "division by zero",
     "output_type": "error",
     "traceback": [
      "\u001b[0;31m---------------------------------------------------------------------------\u001b[0m",
      "\u001b[0;31mZeroDivisionError\u001b[0m                         Traceback (most recent call last)",
      "Cell \u001b[0;32mIn[1], line 5\u001b[0m\n\u001b[1;32m      2\u001b[0m     result \u001b[38;5;241m=\u001b[39m a \u001b[38;5;241m/\u001b[39m b\n\u001b[1;32m      3\u001b[0m     \u001b[38;5;28;01mreturn\u001b[39;00m result\n\u001b[0;32m----> 5\u001b[0m result \u001b[38;5;241m=\u001b[39m \u001b[43mdivide_numbers\u001b[49m\u001b[43m(\u001b[49m\u001b[38;5;241;43m10\u001b[39;49m\u001b[43m,\u001b[49m\u001b[43m \u001b[49m\u001b[38;5;241;43m0\u001b[39;49m\u001b[43m)\u001b[49m\n\u001b[1;32m      6\u001b[0m \u001b[38;5;28mprint\u001b[39m(result)\n",
      "Cell \u001b[0;32mIn[1], line 2\u001b[0m, in \u001b[0;36mdivide_numbers\u001b[0;34m(a, b)\u001b[0m\n\u001b[1;32m      1\u001b[0m \u001b[38;5;28;01mdef\u001b[39;00m \u001b[38;5;21mdivide_numbers\u001b[39m(a, b):\n\u001b[0;32m----> 2\u001b[0m     result \u001b[38;5;241m=\u001b[39m \u001b[43ma\u001b[49m\u001b[43m \u001b[49m\u001b[38;5;241;43m/\u001b[39;49m\u001b[43m \u001b[49m\u001b[43mb\u001b[49m\n\u001b[1;32m      3\u001b[0m     \u001b[38;5;28;01mreturn\u001b[39;00m result\n",
      "\u001b[0;31mZeroDivisionError\u001b[0m: division by zero"
     ]
    }
   ],
   "source": [
    "def divide_numbers(a, b):\n",
    "    result = a / b\n",
    "    return result\n",
    "\n",
    "result = divide_numbers(10, 0)\n",
    "print(result)"
   ]
  },
  {
   "cell_type": "raw",
   "id": "1ab08346-cb8e-46bf-b4be-735ece4435ed",
   "metadata": {},
   "source": [
    "Q3. which python statements are used to catch and handle the exceptions ? explain with an example\n",
    "A: In Python, the try-except statement is used to catch and handle exceptions. The try block contains the code that might raise an exception, and the except block specifies the actions to be taken if a particular exception is encountered."
   ]
  },
  {
   "cell_type": "code",
   "execution_count": 4,
   "id": "b55311ea-039c-4a1d-9a61-d2d7fb0730ec",
   "metadata": {},
   "outputs": [
    {
     "name": "stdout",
     "output_type": "stream",
     "text": [
      "Error: Division by zero is not allowed.\n",
      "None\n"
     ]
    }
   ],
   "source": [
    "def divide_numbers(a, b):\n",
    "    try:\n",
    "        result = a / b\n",
    "        return result\n",
    "    except ZeroDivisionError:\n",
    "        print(\"Error: Division by zero is not allowed.\")\n",
    "\n",
    "result = divide_numbers(10, 0)\n",
    "print(result)\n"
   ]
  },
  {
   "cell_type": "raw",
   "id": "b8a5e3f6-1d7a-476f-8ecf-71a67f949ce6",
   "metadata": {},
   "source": [
    "Q4. Explain with an example \n",
    "    a. try and else\n",
    "    b.finally\n",
    "    c.raise\n",
    "A: Try and else : The try statement can be extended with an optional else block, which is executed if no exceptions occur within the try block. It allows you to specify code that should run only when no exceptions are raised.\n"
   ]
  },
  {
   "cell_type": "code",
   "execution_count": 1,
   "id": "d0a5679b-0e6f-443f-848e-e8b0f367050d",
   "metadata": {},
   "outputs": [
    {
     "name": "stdin",
     "output_type": "stream",
     "text": [
      "Enter a number:  5\n"
     ]
    },
    {
     "name": "stdout",
     "output_type": "stream",
     "text": [
      "The division result is: 2.0\n"
     ]
    }
   ],
   "source": [
    "try:\n",
    "    num = int(input(\"Enter a number: \"))\n",
    "    result = 10 / num\n",
    "except ValueError:\n",
    "    print(\"Invalid input. Please enter a valid number.\")\n",
    "except ZeroDivisionError:\n",
    "    print(\"Error: Division by zero is not allowed.\")\n",
    "else:\n",
    "    print(\"The division result is:\", result)"
   ]
  },
  {
   "cell_type": "raw",
   "id": "4a3c168f-06be-4e95-a271-02b9de668fcd",
   "metadata": {},
   "source": [
    "Finally : The finally block is used to define code that will be executed regardless of whether an exception was raised or not. It is typically used to perform cleanup actions or release resources."
   ]
  },
  {
   "cell_type": "code",
   "execution_count": 1,
   "id": "17d34796-ec0e-4da5-a2c0-818b50cfb305",
   "metadata": {},
   "outputs": [
    {
     "name": "stdout",
     "output_type": "stream",
     "text": [
      "Division result: 5.0\n",
      "This is the 'finally' block. It always executes.\n"
     ]
    }
   ],
   "source": [
    "def divide_numbers(a, b):\n",
    "    try:\n",
    "        result = a / b\n",
    "        print(\"Division result:\", result)\n",
    "    except ZeroDivisionError:\n",
    "        print(\"Error: Division by zero is not allowed.\")\n",
    "    finally:\n",
    "        print(\"This is the 'finally' block. It always executes.\")\n",
    "\n",
    "\n",
    "divide_numbers(10, 2)\n",
    "\n"
   ]
  },
  {
   "cell_type": "raw",
   "id": "b7d22002-300a-4543-9693-a4abbfb286ec",
   "metadata": {},
   "source": [
    "raise : The raise statement is used to explicitly raise an exception in Python. It allows you to create and raise your own exceptions based on certain conditions or situation"
   ]
  },
  {
   "cell_type": "code",
   "execution_count": 4,
   "id": "b952eff8-c7a5-453d-aee1-c26121b2b58a",
   "metadata": {},
   "outputs": [
    {
     "name": "stdin",
     "output_type": "stream",
     "text": [
      "Enter your age:  17\n"
     ]
    },
    {
     "name": "stdout",
     "output_type": "stream",
     "text": [
      "Invalid age: Must be at least 18 years old.\n"
     ]
    }
   ],
   "source": [
    "def validate_age(age):\n",
    "    if age < 0:\n",
    "        raise ValueError(\"Invalid age: Age cannot be negative.\")\n",
    "    elif age < 18:\n",
    "        raise ValueError(\"Invalid age: Must be at least 18 years old.\")\n",
    "\n",
    "try:\n",
    "    user_age = int(input(\"Enter your age: \"))\n",
    "    validate_age(user_age)\n",
    "    print(\"Access granted!\")\n",
    "except ValueError as ve:\n",
    "    print(ve)"
   ]
  },
  {
   "cell_type": "raw",
   "id": "e7476d6c-7ee9-4a80-a809-11d92e63e92d",
   "metadata": {},
   "source": [
    "Q5. what are custom exceptions in python? why do we need custom exceptions? explain with an example\n",
    "A : Custom exceptions in Python are user-defined exceptions that extend the built-in exception classes. They allow you to define your own specific exception types that can be raised and caught in your code. "
   ]
  },
  {
   "cell_type": "code",
   "execution_count": 5,
   "id": "66a4dfe0-0a54-4c81-9df5-37fb0b643dcc",
   "metadata": {},
   "outputs": [],
   "source": [
    "class NotPalindromeError(Exception):\n",
    "    pass\n",
    "\n",
    "def check_palindrome(word):\n",
    "    if word != word[::-1]:\n",
    "        raise NotPalindromeError(\"The word is not a palindrome.\")\n",
    "    else:\n",
    "        print(\"The word is a palindrome.\")"
   ]
  },
  {
   "cell_type": "code",
   "execution_count": 6,
   "id": "e80bc5b8-b258-481c-86c5-9010d2bc1ef8",
   "metadata": {},
   "outputs": [
    {
     "name": "stdout",
     "output_type": "stream",
     "text": [
      "The word is not a palindrome.\n"
     ]
    }
   ],
   "source": [
    "word = \"hello\"\n",
    "\n",
    "try:\n",
    "    check_palindrome(word)\n",
    "except NotPalindromeError as e:\n",
    "    print(e)\n"
   ]
  },
  {
   "cell_type": "raw",
   "id": "b2ddb289-bc4d-48be-a3e0-dfd2856b8d46",
   "metadata": {},
   "source": [
    "Q5. create a custom exception class. Use this class to handle an exception\n"
   ]
  },
  {
   "cell_type": "code",
   "execution_count": 7,
   "id": "b3f49166-d608-466a-93a2-4402fd2bb6c5",
   "metadata": {},
   "outputs": [
    {
     "name": "stdout",
     "output_type": "stream",
     "text": [
      "Negative numbers do not have a square root.\n"
     ]
    }
   ],
   "source": [
    "class NegativeNumberError(Exception):\n",
    "    pass\n",
    "\n",
    "def calculate_square_root(num):\n",
    "    if num < 0:\n",
    "        raise NegativeNumberError(\"Negative numbers do not have a square root.\")\n",
    "    else:\n",
    "        result = num ** 0.5\n",
    "        print(f\"The square root of {num} is {result}\")\n",
    "\n",
    "number = -9\n",
    "\n",
    "try:\n",
    "    calculate_square_root(number)\n",
    "except NegativeNumberError as e:\n",
    "    print(e)"
   ]
  },
  {
   "cell_type": "code",
   "execution_count": null,
   "id": "2a7f546f-5499-4b8a-9a12-f28e319d13a8",
   "metadata": {},
   "outputs": [],
   "source": []
  }
 ],
 "metadata": {
  "kernelspec": {
   "display_name": "Python 3 (ipykernel)",
   "language": "python",
   "name": "python3"
  },
  "language_info": {
   "codemirror_mode": {
    "name": "ipython",
    "version": 3
   },
   "file_extension": ".py",
   "mimetype": "text/x-python",
   "name": "python",
   "nbconvert_exporter": "python",
   "pygments_lexer": "ipython3",
   "version": "3.10.8"
  }
 },
 "nbformat": 4,
 "nbformat_minor": 5
}
