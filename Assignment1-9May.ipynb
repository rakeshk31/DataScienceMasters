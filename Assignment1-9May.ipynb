{
 "cells": [
  {
   "cell_type": "code",
   "execution_count": 4,
   "id": "4b27048e-9d15-4807-a9bf-7420a333519f",
   "metadata": {},
   "outputs": [],
   "source": [
    "##Q1. Create one variable containing following type of data:(i) string(ii) list(iii) float(iv) tuple\n",
    " \n",
    "a = \"Hello\"\n",
    "b = [1,2,3,4]\n",
    "c = 2.999\n",
    "d = (1,2,3,4)"
   ]
  },
  {
   "cell_type": "markdown",
   "id": "4d556724-942c-4b9e-81c3-dc7a3888fc3c",
   "metadata": {},
   "source": [
    "##Q2. Given are some following variables containing data:\n",
    "##(i) var1 = ‘ ‘ - Str\n",
    "##(ii) var2 = '[ DS , ML , Python]' -str\n",
    "##(iii) var3 = [ 'DS' , 'ML' , 'Python' ] - list\n",
    "##(iv) var4 = 1. - float"
   ]
  },
  {
   "cell_type": "markdown",
   "id": "21926886-3a80-493e-9e98-25ea15122f47",
   "metadata": {},
   "source": [
    "##Q3. Explain the use of the following operators using an example:\n",
    "(i) /  - The / operator is used for division in Python. It performs floating-point division, which means it returns the result as a float\n",
    "(ii) % - The % operator calculates the remainder of the division between two numbers. It returns the remainder after dividing the left operand by the           right operand.\n",
    "(iii) // - The // operator performs floor division, which returns the largest integer less than or equal to the division result. It discards the                  fractional part of the division\n",
    "(iv) ** - The ** operator raises the left operand to the power of the right operand."
   ]
  },
  {
   "cell_type": "code",
   "execution_count": 28,
   "id": "058b363c-e1c7-4d7b-bfce-b62f2c092f97",
   "metadata": {},
   "outputs": [
    {
     "name": "stdout",
     "output_type": "stream",
     "text": [
      "10\n",
      "1 <class 'int'>\n",
      "2 <class 'int'>\n",
      "3 <class 'int'>\n",
      "4 <class 'int'>\n",
      "rak <class 'str'>\n",
      "(1+2j) <class 'complex'>\n",
      "2.333 <class 'float'>\n",
      "(1, 2, 3) <class 'tuple'>\n",
      "class <class 'str'>\n",
      "0 <class 'int'>\n"
     ]
    }
   ],
   "source": [
    "##Q4. Create a list of length 10 of your choice containing multiple types of data. Using for loop print the element and its data type.\n",
    "l = [1,2,3,4,\"rak\", 1+2j, 2.333,(1,2,3),\"class\",0]\n",
    "print (len(l))\n",
    "for i in l:\n",
    "    print (i,type(i))"
   ]
  },
  {
   "cell_type": "code",
   "execution_count": null,
   "id": "58466a2b-6034-4b51-8b34-e9f8ad7f7782",
   "metadata": {},
   "outputs": [],
   "source": [
    "##Q5. Using a while loop, verify if the number A is purely divisible by number B and if so then how many times it can be divisible.\n",
    "Count = 0\n",
    "while A % B == 0:\n",
    "    A = A / B  # Divide A by B\n",
    "    count += 1  # Increment the count by 1\n",
    "\n",
    "print(\"A is divisible by B {count} times.\")"
   ]
  },
  {
   "cell_type": "code",
   "execution_count": 57,
   "id": "d4448082-97d7-4687-a570-e8382b89d1c4",
   "metadata": {},
   "outputs": [
    {
     "name": "stdout",
     "output_type": "stream",
     "text": [
      "1 is not divisible by 3\n",
      "2 is not divisible by 3\n",
      "3 is divisible by 3\n",
      "4 is not divisible by 3\n",
      "5 is not divisible by 3\n",
      "6 is divisible by 3\n",
      "7 is not divisible by 3\n",
      "8 is not divisible by 3\n",
      "9 is divisible by 3\n",
      "10 is not divisible by 3\n",
      "11 is not divisible by 3\n",
      "12 is divisible by 3\n",
      "13 is not divisible by 3\n",
      "14 is not divisible by 3\n",
      "15 is divisible by 3\n",
      "16 is not divisible by 3\n",
      "17 is not divisible by 3\n",
      "18 is divisible by 3\n",
      "19 is not divisible by 3\n",
      "20 is not divisible by 3\n",
      "21 is divisible by 3\n",
      "22 is not divisible by 3\n",
      "23 is not divisible by 3\n",
      "24 is divisible by 3\n",
      "25 is not divisible by 3\n"
     ]
    }
   ],
   "source": [
    "##Q6. Create a list containing 25 int type data. Using for loop and if-else condition print if the element is divisible by 3 or not.\n",
    "lis = list(range(1,26))\n",
    "for i in lis:\n",
    "    if i % 3 == 0:\n",
    "        print(\"{} is divisible by 3\".format(i))\n",
    "    else:\n",
    "        print(\"{} is not divisible by 3\".format(i))\n",
    " "
   ]
  },
  {
   "cell_type": "markdown",
   "id": "29d7318c-7b59-4c02-843c-e59c24e29904",
   "metadata": {},
   "source": [
    "##Q7. What do you understand about mutable and immutable data types? Give examples for both showing this property.\n",
    "A:    immutable data types are those whose values cannot be modified after they are created. Ex : tuple\n",
    "      Mutable data types are those that allow in-place modifications of their values. Ex: list\n"
   ]
  },
  {
   "cell_type": "code",
   "execution_count": 64,
   "id": "def00f1e-095d-4950-bfea-bc23ba5492ad",
   "metadata": {},
   "outputs": [
    {
     "data": {
      "text/plain": [
       "[6, 2, 3, 4]"
      ]
     },
     "execution_count": 64,
     "metadata": {},
     "output_type": "execute_result"
    }
   ],
   "source": [
    "l = [1,2,3,4]\n",
    "l[0]=6\n",
    "l"
   ]
  },
  {
   "cell_type": "code",
   "execution_count": 63,
   "id": "9a4abf07-586f-42f3-aa4f-4fa092f79385",
   "metadata": {},
   "outputs": [
    {
     "data": {
      "text/plain": [
       "tuple"
      ]
     },
     "execution_count": 63,
     "metadata": {},
     "output_type": "execute_result"
    }
   ],
   "source": [
    "t = (2,3,5,6)\n",
    "type(t)"
   ]
  },
  {
   "cell_type": "code",
   "execution_count": 66,
   "id": "dc5ec948-512e-451e-9e2f-f88d8735d2dd",
   "metadata": {},
   "outputs": [
    {
     "ename": "TypeError",
     "evalue": "'tuple' object does not support item assignment",
     "output_type": "error",
     "traceback": [
      "\u001b[0;31m---------------------------------------------------------------------------\u001b[0m",
      "\u001b[0;31mTypeError\u001b[0m                                 Traceback (most recent call last)",
      "Cell \u001b[0;32mIn[66], line 1\u001b[0m\n\u001b[0;32m----> 1\u001b[0m \u001b[43mt\u001b[49m\u001b[43m[\u001b[49m\u001b[38;5;241;43m0\u001b[39;49m\u001b[43m]\u001b[49m \u001b[38;5;241m=\u001b[39m \u001b[38;5;241m9\u001b[39m\n",
      "\u001b[0;31mTypeError\u001b[0m: 'tuple' object does not support item assignment"
     ]
    }
   ],
   "source": [
    "t[0] = 9"
   ]
  },
  {
   "cell_type": "code",
   "execution_count": null,
   "id": "90526f11-d984-4572-b385-2ced3be92884",
   "metadata": {},
   "outputs": [],
   "source": []
  }
 ],
 "metadata": {
  "kernelspec": {
   "display_name": "Python 3 (ipykernel)",
   "language": "python",
   "name": "python3"
  },
  "language_info": {
   "codemirror_mode": {
    "name": "ipython",
    "version": 3
   },
   "file_extension": ".py",
   "mimetype": "text/x-python",
   "name": "python",
   "nbconvert_exporter": "python",
   "pygments_lexer": "ipython3",
   "version": "3.10.8"
  }
 },
 "nbformat": 4,
 "nbformat_minor": 5
}
