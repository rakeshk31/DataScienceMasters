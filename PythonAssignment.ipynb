{
 "cells": [
  {
   "cell_type": "code",
   "execution_count": 1,
   "id": "9a9440d9-2e2c-4ac4-b24c-087d0daf3034",
   "metadata": {},
   "outputs": [],
   "source": [
    "##Q1. Create a python program to sort the given list of tuples based on integer value using alambda function.\n",
    "##[('Sachin Tendulkar', 34357), ('Ricky Ponting', 27483), ('Jack Kallis', 25534), ('Virat Kohli', 24936)]"
   ]
  },
  {
   "cell_type": "code",
   "execution_count": 7,
   "id": "528f2312-bc09-4c43-94a5-93639d4ddbd9",
   "metadata": {},
   "outputs": [
    {
     "name": "stdout",
     "output_type": "stream",
     "text": [
      "[('Virat Kohli', 24936), ('Jack Kallis', 25534), ('Ricky Ponting', 27483), ('Sachin Tendulkar', 34357)]\n"
     ]
    }
   ],
   "source": [
    "l = [('Sachin Tendulkar', 34357), ('Ricky Ponting', 27483), ('Jack Kallis', 25534), ('Virat Kohli', 24936)]\n",
    "lt = sorted(l, key=lambda x:x[1])\n",
    "print(lt)"
   ]
  },
  {
   "cell_type": "code",
   "execution_count": 8,
   "id": "8a6fb3be-02fc-423a-8e44-a3c40c876504",
   "metadata": {},
   "outputs": [
    {
     "data": {
      "text/plain": [
       "[1, 4, 9, 16, 25, 36, 49, 64, 81, 100]"
      ]
     },
     "execution_count": 8,
     "metadata": {},
     "output_type": "execute_result"
    }
   ],
   "source": [
    "##Q2. Write a Python Program to find the squares of all the numbers in the given list of integers using lambda and map functions.\n",
    "##[1, 2, 3, 4, 5, 6, 7, 8, 9, 10]\n",
    "l = [1,2,3,4,5,6,7,8,9,10]\n",
    "list(map(lambda X : X**2, l))"
   ]
  },
  {
   "cell_type": "code",
   "execution_count": 9,
   "id": "b4474b6b-da29-445b-8788-79bd8c9d2ef3",
   "metadata": {},
   "outputs": [],
   "source": [
    "## Q3. Write a python program to convert the given list of integers into a tuple of strings. Use map and lambda functions\n",
    "## Given String: [1, 2, 3, 4, 5, 6, 7, 8, 9, 10]\n",
    "## Expected output: ('1', '2', '3', '4', '5', '6', '7', '8', '9', '10')"
   ]
  },
  {
   "cell_type": "code",
   "execution_count": 15,
   "id": "0d2bc76a-7e27-4de9-84f3-36bbc9cd53f2",
   "metadata": {},
   "outputs": [
    {
     "data": {
      "text/plain": [
       "('1', '2', '3', '4', '5', '6', '7', '8', '9', '10')"
      ]
     },
     "execution_count": 15,
     "metadata": {},
     "output_type": "execute_result"
    }
   ],
   "source": [
    "l = [1,2,3,4,5,6,7,8,9,10]\n",
    "tuple(map(lambda x:str(x) , l))"
   ]
  },
  {
   "cell_type": "code",
   "execution_count": 18,
   "id": "3fdabb10-9e34-4587-b95c-1ab8f133decd",
   "metadata": {},
   "outputs": [
    {
     "name": "stdout",
     "output_type": "stream",
     "text": [
      "325\n"
     ]
    }
   ],
   "source": [
    "## Q4. Write a python program using reduce function to compute the product of a list containing numbers from 1 to 25.\n",
    "from functools import reduce\n",
    "l = range(1,26)\n",
    "s = reduce(lambda x,y: x+y, l)\n",
    "print(s)\n",
    "\n",
    "    "
   ]
  },
  {
   "cell_type": "code",
   "execution_count": 21,
   "id": "88474875-657a-4b3b-b439-e91d2f69c1cd",
   "metadata": {},
   "outputs": [
    {
     "data": {
      "text/plain": [
       "[6, 60, 90, 120]"
      ]
     },
     "execution_count": 21,
     "metadata": {},
     "output_type": "execute_result"
    }
   ],
   "source": [
    "## Q5.Write a python program to filter the numbers in a given list that are divisible by 2 and 3 using the\n",
    "#filter function. [2, 3, 6, 9, 27, 60, 90, 120, 55, 46]\n",
    "l = [2, 3, 6, 9, 27, 60, 90, 120, 55, 46]\n",
    "list(filter(lambda x : x%2 == 0 and x%3 == 0, l))\n"
   ]
  },
  {
   "cell_type": "code",
   "execution_count": 23,
   "id": "75cb1d81-8b5c-49bd-84ab-1abf26d21662",
   "metadata": {},
   "outputs": [
    {
     "data": {
      "text/plain": [
       "['php', 'aba', 'radar', 'level']"
      ]
     },
     "execution_count": 23,
     "metadata": {},
     "output_type": "execute_result"
    }
   ],
   "source": [
    "##Q6. Write a python program to find palindromes in the given list of strings using lambda and filter\n",
    "## function. ['python', 'php', 'aba', 'radar', 'level']\n",
    "\n",
    "l = ['python', 'php', 'aba', 'radar', 'level']\n",
    "list(filter(lambda x: x == x[::-1], l))"
   ]
  },
  {
   "cell_type": "code",
   "execution_count": null,
   "id": "02531e83-5218-4c80-b5f9-8db82695ebcd",
   "metadata": {},
   "outputs": [],
   "source": []
  }
 ],
 "metadata": {
  "kernelspec": {
   "display_name": "Python 3 (ipykernel)",
   "language": "python",
   "name": "python3"
  },
  "language_info": {
   "codemirror_mode": {
    "name": "ipython",
    "version": 3
   },
   "file_extension": ".py",
   "mimetype": "text/x-python",
   "name": "python",
   "nbconvert_exporter": "python",
   "pygments_lexer": "ipython3",
   "version": "3.10.8"
  }
 },
 "nbformat": 4,
 "nbformat_minor": 5
}
