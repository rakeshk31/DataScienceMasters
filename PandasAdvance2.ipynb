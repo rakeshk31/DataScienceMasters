{
 "cells": [
  {
   "cell_type": "code",
   "execution_count": 4,
   "id": "8c1d301f-7412-4201-b7a4-80892d46426b",
   "metadata": {},
   "outputs": [
    {
     "name": "stdout",
     "output_type": "stream",
     "text": [
      "course_name    Machine Learning\n",
      "duration                      3\n",
      "Name: 1, dtype: object\n"
     ]
    }
   ],
   "source": [
    "# Consider following code to answer further questions:\n",
    "import pandas as pd\n",
    "course_name = ['Data Science', 'Machine Learning', 'Big Data', 'Data Engineer']\n",
    "duration = [2,3,6,4]\n",
    "df = pd.DataFrame(data = {'course_name' : course_name, 'duration' : duration})\n",
    "# Q1. Write a code to print the data present in the second row of the dataframe, df.\n",
    "# Anwser : \n",
    "print(df.iloc[1])"
   ]
  },
  {
   "cell_type": "code",
   "execution_count": 5,
   "id": "16763e6d-0b9f-463a-92c4-96b8c0f21159",
   "metadata": {},
   "outputs": [],
   "source": [
    "# Q2. What is the difference between the functions loc and iloc in pandas.DataFrame?\n",
    "# loc indexer:\n",
    "# The loc indexer is primarily label-based, meaning that it uses labels or column names to access data. It allows you to select rows and columns based on their labels or conditions. \n",
    "# iloc indexer:\n",
    "# The iloc indexer, on the other hand, is purely integer-based. It uses integer-based indexing to access data in a DataFrame"
   ]
  },
  {
   "cell_type": "code",
   "execution_count": 6,
   "id": "ddd90a84-9f4d-4668-acad-a44556e68e22",
   "metadata": {},
   "outputs": [
    {
     "name": "stdout",
     "output_type": "stream",
     "text": [
      "course_name    Big Data\n",
      "duration              6\n",
      "Name: 2, dtype: object\n",
      "course_name    Machine Learning\n",
      "duration                      3\n",
      "Name: 1, dtype: object\n"
     ]
    }
   ],
   "source": [
    "# Q3. Reindex the given dataframe using a variable, reindex = [3,0,1,2] and store it in the variable, new_df\n",
    "# then find the output for both new_df.loc[2] and new_df.iloc[2].\n",
    "# A :\n",
    "import pandas as pd\n",
    "\n",
    "reindex = [3, 0, 1, 2]\n",
    "new_df = df.reindex(reindex)\n",
    "\n",
    "print(new_df.loc[2])\n",
    "print(new_df.iloc[2])\n"
   ]
  },
  {
   "cell_type": "code",
   "execution_count": 9,
   "id": "bb29a1a8-acd5-4aa4-ae6f-45a9b0576984",
   "metadata": {},
   "outputs": [
    {
     "data": {
      "text/html": [
       "<div>\n",
       "<style scoped>\n",
       "    .dataframe tbody tr th:only-of-type {\n",
       "        vertical-align: middle;\n",
       "    }\n",
       "\n",
       "    .dataframe tbody tr th {\n",
       "        vertical-align: top;\n",
       "    }\n",
       "\n",
       "    .dataframe thead th {\n",
       "        text-align: right;\n",
       "    }\n",
       "</style>\n",
       "<table border=\"1\" class=\"dataframe\">\n",
       "  <thead>\n",
       "    <tr style=\"text-align: right;\">\n",
       "      <th></th>\n",
       "      <th>column_1</th>\n",
       "      <th>column_2</th>\n",
       "      <th>column_3</th>\n",
       "      <th>column_4</th>\n",
       "      <th>column_5</th>\n",
       "      <th>column_6</th>\n",
       "    </tr>\n",
       "  </thead>\n",
       "  <tbody>\n",
       "    <tr>\n",
       "      <th>1</th>\n",
       "      <td>0.322149</td>\n",
       "      <td>0.088208</td>\n",
       "      <td>0.658302</td>\n",
       "      <td>0.416824</td>\n",
       "      <td>0.894092</td>\n",
       "      <td>0.458627</td>\n",
       "    </tr>\n",
       "    <tr>\n",
       "      <th>2</th>\n",
       "      <td>0.699504</td>\n",
       "      <td>0.582301</td>\n",
       "      <td>0.431985</td>\n",
       "      <td>0.162119</td>\n",
       "      <td>0.042487</td>\n",
       "      <td>0.552329</td>\n",
       "    </tr>\n",
       "    <tr>\n",
       "      <th>3</th>\n",
       "      <td>0.643420</td>\n",
       "      <td>0.880924</td>\n",
       "      <td>0.882468</td>\n",
       "      <td>0.517549</td>\n",
       "      <td>0.268078</td>\n",
       "      <td>0.154141</td>\n",
       "    </tr>\n",
       "    <tr>\n",
       "      <th>4</th>\n",
       "      <td>0.448578</td>\n",
       "      <td>0.318805</td>\n",
       "      <td>0.877250</td>\n",
       "      <td>0.549701</td>\n",
       "      <td>0.565535</td>\n",
       "      <td>0.682118</td>\n",
       "    </tr>\n",
       "    <tr>\n",
       "      <th>5</th>\n",
       "      <td>0.226564</td>\n",
       "      <td>0.917255</td>\n",
       "      <td>0.344299</td>\n",
       "      <td>0.046737</td>\n",
       "      <td>0.576327</td>\n",
       "      <td>0.134832</td>\n",
       "    </tr>\n",
       "    <tr>\n",
       "      <th>6</th>\n",
       "      <td>0.862087</td>\n",
       "      <td>0.706084</td>\n",
       "      <td>0.516253</td>\n",
       "      <td>0.782015</td>\n",
       "      <td>0.770925</td>\n",
       "      <td>0.812576</td>\n",
       "    </tr>\n",
       "  </tbody>\n",
       "</table>\n",
       "</div>"
      ],
      "text/plain": [
       "   column_1  column_2  column_3  column_4  column_5  column_6\n",
       "1  0.322149  0.088208  0.658302  0.416824  0.894092  0.458627\n",
       "2  0.699504  0.582301  0.431985  0.162119  0.042487  0.552329\n",
       "3  0.643420  0.880924  0.882468  0.517549  0.268078  0.154141\n",
       "4  0.448578  0.318805  0.877250  0.549701  0.565535  0.682118\n",
       "5  0.226564  0.917255  0.344299  0.046737  0.576327  0.134832\n",
       "6  0.862087  0.706084  0.516253  0.782015  0.770925  0.812576"
      ]
     },
     "execution_count": 9,
     "metadata": {},
     "output_type": "execute_result"
    }
   ],
   "source": [
    "import pandas as pd\n",
    "import numpy as np\n",
    "columns = ['column_1', 'column_2', 'column_3', 'column_4', 'column_5', 'column_6']\n",
    "indices = [1,2,3,4,5,6]\n",
    "#Creating a dataframe:\n",
    "df1 = pd.DataFrame(np.random.rand(6,6), columns = columns, index = indices)\n",
    "df1"
   ]
  },
  {
   "cell_type": "code",
   "execution_count": 10,
   "id": "9ec2983c-beca-4d09-9896-cb9f09ebdbb3",
   "metadata": {},
   "outputs": [
    {
     "name": "stdout",
     "output_type": "stream",
     "text": [
      "column_1    0.533717\n",
      "column_2    0.582263\n",
      "column_3    0.618426\n",
      "column_4    0.412491\n",
      "column_5    0.519574\n",
      "column_6    0.465771\n",
      "dtype: float64\n",
      "0.325653530703017\n"
     ]
    }
   ],
   "source": [
    "# # Q4. Q4. Write a code to find the following statistical measurements for the above dataframe df1:\n",
    "# (i) mean of each and every column present in the dataframe.\n",
    "# (ii) standard deviation of column, ‘column_2’\n",
    "column_means = df1.mean()\n",
    "print(column_means)\n",
    "column_2_std = df1['column_2'].std()\n",
    "print(column_2_std)"
   ]
  },
  {
   "cell_type": "code",
   "execution_count": 11,
   "id": "3b75b30f-5bc0-4032-8a3b-51f82ae0dafe",
   "metadata": {},
   "outputs": [],
   "source": [
    "# Q5. Replace the data present in the second row of column, ‘column_2’ by a string variable then find the\n",
    "# mean of column, column_2.\n",
    "# Answer:\n",
    "# If you replace the data in the second row of 'column_2' with a string variable, it will raise an error because the column is originally created with a numeric data type. Pandas DataFrame columns are designed to hold values of a specific data type, and you cannot assign a string to a column that is expected to contain numeric values."
   ]
  },
  {
   "cell_type": "code",
   "execution_count": null,
   "id": "e175125a-2c8b-4756-8534-9add0caa41f4",
   "metadata": {},
   "outputs": [],
   "source": [
    "# # # Q6. What do you understand about the windows function in pandas and list the types of windows\n",
    "# # # functions?\n",
    "# # Anwser: \n",
    "# In Pandas, the windows functions, also known as rolling or moving functions, operate on a specified window of data within a DataFrame or Series. These functions calculate a value based on a sliding window of data points, allowing for analysis and calculations that take into account the data's temporal or spatial characteristics.\n",
    "\n",
    "# There are several types of window functions available in Pandas:\n",
    "\n",
    "# 1. Rolling Window Functions: These functions calculate values over a fixed-size rolling window defined by the number of preceding or succeeding data points. The window size remains constant as it moves along the data. Examples include `rolling.mean()`, `rolling.sum()`, `rolling.min()`, `rolling.max()`, etc.\n",
    "\n",
    "# 2. Expanding Window Functions: These functions calculate values over an expanding window that grows with each data point. The calculations include all preceding data points up to the current position. Examples include `expanding.mean()`, `expanding.sum()`, `expanding.min()`, `expanding.max()`, etc.\n",
    "\n",
    "# 3. Exponential Moving Average (EMA): EMA is a weighted moving average that assigns exponentially decreasing weights to older data points. The weight assigned to each data point decreases exponentially, with the most recent data points having the highest weight. EMA is commonly used in financial analysis. The function to calculate EMA is `ewm()`.\n",
    "\n",
    "# 4. Rolling Apply Functions: These functions allow applying custom functions to a rolling window. They provide flexibility in performing calculations that are not covered by built-in functions. Examples include `rolling.apply()`, `rolling.aggregate()`, `rolling.transform()`, etc.\n",
    "\n",
    "# These window functions provide powerful capabilities to perform various calculations, such as moving averages, cumulative sums, volatility calculations, trend analysis, and more. They are widely used in time series analysis, finance, signal processing, and other domains where analyzing data in a rolling or expanding window context is necessary."
   ]
  },
  {
   "cell_type": "code",
   "execution_count": 12,
   "id": "a03b6fec-ce8a-4a02-b322-cf9ca3b3ab56",
   "metadata": {},
   "outputs": [
    {
     "name": "stdout",
     "output_type": "stream",
     "text": [
      "Current month: July\n",
      "Current year: 2023\n"
     ]
    }
   ],
   "source": [
    "#Q7 Write a code to print only the current month and year at the time of answering this question.\n",
    "import datetime\n",
    "\n",
    "# Get the current date\n",
    "current_date = datetime.datetime.now()\n",
    "\n",
    "# Extract the month and year from the current date\n",
    "current_month = current_date.strftime('%B')  # Full month name\n",
    "current_year = current_date.strftime('%Y')   # 4-digit year\n",
    "\n",
    "# Print the current month and year\n",
    "print(f\"Current month: {current_month}\")\n",
    "print(f\"Current year: {current_year}\")\n"
   ]
  },
  {
   "cell_type": "code",
   "execution_count": 13,
   "id": "96d75721-c881-4413-9fff-8dfc77b8a775",
   "metadata": {},
   "outputs": [],
   "source": [
    "# Q8. Write a Python program that takes in two dates as input (in the format YYYY-MM-DD) and\n",
    "# calculates the difference between them in days, hours, and minutes using Pandas time delta. The\n",
    "# program should prompt the user to enter the dates and display the result."
   ]
  },
  {
   "cell_type": "code",
   "execution_count": 15,
   "id": "00b236fd-d3b9-40ba-a1e4-8d449fb83f71",
   "metadata": {},
   "outputs": [
    {
     "name": "stdin",
     "output_type": "stream",
     "text": [
      "Enter the first date (YYYY-MM-DD):  2023-07-01\n",
      "Enter the second date (YYYY-MM-DD):  2023-08-01\n"
     ]
    },
    {
     "name": "stdout",
     "output_type": "stream",
     "text": [
      "The difference between the dates is 31 days, 0 hours, and 0 minutes.\n"
     ]
    }
   ],
   "source": [
    "# Prompt the user to enter the dates\n",
    "date1 = input(\"Enter the first date (YYYY-MM-DD): \")\n",
    "date2 = input(\"Enter the second date (YYYY-MM-DD): \")\n",
    "\n",
    "# Convert the input strings to pandas datetime objects\n",
    "date1 = pd.to_datetime(date1)\n",
    "date2 = pd.to_datetime(date2)\n",
    "\n",
    "# Calculate the difference between the dates\n",
    "time_diff = date2 - date1\n",
    "\n",
    "# Extract the components of the time difference\n",
    "days = time_diff.days\n",
    "hours = time_diff.seconds // 3600\n",
    "minutes = (time_diff.seconds % 3600) // 60\n",
    "\n",
    "# Display the result\n",
    "print(f\"The difference between the dates is {days} days, {hours} hours, and {minutes} minutes.\")\n"
   ]
  },
  {
   "cell_type": "code",
   "execution_count": 16,
   "id": "3bd293b9-04d2-4b03-954f-810aea4a87e2",
   "metadata": {},
   "outputs": [],
   "source": [
    "# Q9. Write a Python program that reads a CSV file containing categorical data and converts a specified\n",
    "# column to a categorical data type. The program should prompt the user to enter the file path, column\n",
    "# name, and category order, and then display the sorted data."
   ]
  },
  {
   "cell_type": "code",
   "execution_count": null,
   "id": "e6aab5f0-f067-4e7a-8bfc-0fff8f3e8053",
   "metadata": {},
   "outputs": [],
   "source": [
    "import pandas as pd\n",
    "\n",
    "# Prompt the user to enter the file path\n",
    "file_path = input(\"Enter the file path (CSV): \")\n",
    "\n",
    "# Prompt the user to enter the column name\n",
    "column_name = input(\"Enter the column name to convert: \")\n",
    "\n",
    "# Prompt the user to enter the category order\n",
    "category_order = input(\"Enter the category order (comma-separated): \").split(',')\n",
    "\n",
    "# Read the CSV file into a DataFrame\n",
    "df = pd.read_csv(file_path)\n",
    "\n",
    "# Convert the specified column to categorical data type with specified category order\n",
    "df[column_name] = pd.Categorical(df[column_name], categories=category_order, ordered=True)\n",
    "\n",
    "# Sort the DataFrame based on the specified column\n",
    "sorted_df = df.sort_values(by=column_name)\n",
    "\n",
    "# Display the sorted data\n",
    "print(sorted_df)"
   ]
  }
 ],
 "metadata": {
  "kernelspec": {
   "display_name": "Python 3 (ipykernel)",
   "language": "python",
   "name": "python3"
  },
  "language_info": {
   "codemirror_mode": {
    "name": "ipython",
    "version": 3
   },
   "file_extension": ".py",
   "mimetype": "text/x-python",
   "name": "python",
   "nbconvert_exporter": "python",
   "pygments_lexer": "ipython3",
   "version": "3.10.8"
  }
 },
 "nbformat": 4,
 "nbformat_minor": 5
}
