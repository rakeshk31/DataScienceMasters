{
 "cells": [
  {
   "cell_type": "code",
   "execution_count": null,
   "id": "2b0a8f4e-be44-402f-8747-fa201cd53761",
   "metadata": {},
   "outputs": [],
   "source": [
    "##Q1. Explain Class and Object with respect to Object-Oriented Programming. Give a suitable example.\n",
    "##A : In object-oriented programming (OOP), a class is a blueprint for creating objects. It defines the object's attributes and methods.     An object is an instance of a class. It has the properties and methods defined by its class.\n",
    "  # Example : \n",
    "   #Car class might have properties such as color, make, and model. It might also have methods such as drive(), stop(), and turn(). An    object created from the Car class would have all of these properties and methods."
   ]
  },
  {
   "cell_type": "code",
   "execution_count": null,
   "id": "37702e19-184f-4fcb-972c-dbb4877444ac",
   "metadata": {},
   "outputs": [],
   "source": [
    "## Q2. Name the four pillars of OOPs\n",
    "## A : Encapsulation: Encapsulation is the process of bundling data (attributes) and methods (functions) together within a class. By encapsulating data and methods, we can ensure that they are accessed and modified through well-defined channels.\n",
    "\n",
    "## Inheritance: Inheritance is a mechanism that allows a class to inherit the properties (attributes and methods) of another class. The class that is being inherited from is called the base class or superclass, while the class that inherits those properties is called the derived class or subclass. \n",
    "\n",
    "## Polymorphism: Polymorphism means the ability of objects to take on multiple forms. In Python, polymorphism is achieved through method overriding and method overloading. \n",
    "\n",
    "##  Abstraction: Abstraction refers to the process of hiding unnecessary details and providing a simplified representation of complex systems. In Python, abstraction is often achieved through the use of abstract classes and interfaces. An abstract class cannot be instantiated and serves as a blueprint for its subclasses."
   ]
  },
  {
   "cell_type": "code",
   "execution_count": null,
   "id": "fd28fecd-6c61-4d0f-a7f2-37a0d5825ef6",
   "metadata": {},
   "outputs": [],
   "source": [
    "## Q3. Explain why the __init__() function is used. Give a suitable example.\n",
    "## A: The __init__() function is used to initialize the attributes of an object when it is created"
   ]
  },
  {
   "cell_type": "code",
   "execution_count": 3,
   "id": "2588469b-1b0a-4b47-a5c7-6c2156e2c6ef",
   "metadata": {},
   "outputs": [
    {
     "name": "stdout",
     "output_type": "stream",
     "text": [
      "series 3\n",
      "The car is driving\n",
      "The car is stopping\n"
     ]
    }
   ],
   "source": [
    "class Car:\n",
    "  def __init__(self, make, model, year):\n",
    "    self.make = make\n",
    "    self.model = model\n",
    "    self.year = year\n",
    "\n",
    "  def drive(self):\n",
    "    print(\"The car is driving\")\n",
    "\n",
    "  def stop(self):\n",
    "    print(\"The car is stopping\")\n",
    "\n",
    "my_car = Car(\"BMW\", \"series 3\", 2022)\n",
    "print (my_car.model)\n",
    "my_car.drive()\n",
    "my_car.stop()\n"
   ]
  },
  {
   "cell_type": "code",
   "execution_count": null,
   "id": "5890ce66-59bb-4c28-b5ff-d7a1bf216b49",
   "metadata": {},
   "outputs": [],
   "source": [
    "## Q4. Why self is used in OOPs?\n",
    "## A. In object-oriented programming (OOP), self is a special keyword that refers to the current instance of the class. It is used to access the object's attributes and methods."
   ]
  },
  {
   "cell_type": "code",
   "execution_count": null,
   "id": "b6c3db47-86d0-41fa-afb4-eab2a1c8c244",
   "metadata": {},
   "outputs": [],
   "source": [
    "## Q5.What is inheritance? Give an example for each type of inheritance.\n",
    "## A : Inheritance is a fundamental concept in object-oriented programming that allows a class (called the derived class or subclass) to inherit the properties (attributes and methods) of another class (called the base class or superclass). It promotes code reuse and establishes an \"is-a\" relationship between classes.\n",
    "\n",
    "## In Python, there are different types of inheritance, including:\n",
    "\n",
    "## Single Inheritance: In single inheritance, a subclass inherits from a single base class. It is the simplest form of inheritance."
   ]
  },
  {
   "cell_type": "code",
   "execution_count": 4,
   "id": "d31bb2e7-d71c-41af-b844-a6f7e5b894aa",
   "metadata": {},
   "outputs": [
    {
     "name": "stdout",
     "output_type": "stream",
     "text": [
      "Sedan is being driven.\n",
      "Beep! Beep!\n"
     ]
    }
   ],
   "source": [
    "class Vehicle:\n",
    "    def __init__(self, name):\n",
    "        self.name = name\n",
    "\n",
    "    def drive(self):\n",
    "        print(f\"{self.name} is being driven.\")\n",
    "\n",
    "class Car(Vehicle):\n",
    "    def honk(self):\n",
    "        print(\"Beep! Beep!\")\n",
    "\n",
    "my_car = Car(\"Sedan\")\n",
    "my_car.drive()\n",
    "my_car.honk() "
   ]
  },
  {
   "cell_type": "code",
   "execution_count": null,
   "id": "85c2f70f-31bb-4f94-b19a-7c4b70154a6a",
   "metadata": {},
   "outputs": [],
   "source": [
    "## Multiple inheritance:\n",
    "## Multiple inheritance allows a class to inherit from multiple parent classes. The child class inherits attributes and methods from all the parent classes. This type of inheritance enables you to combine functionalities from different classes into a single class. However, it can lead to complexities if there are naming conflicts between the parent classes."
   ]
  },
  {
   "cell_type": "code",
   "execution_count": 5,
   "id": "494d5ad7-b821-4791-81e2-f20d5fca3f70",
   "metadata": {},
   "outputs": [
    {
     "name": "stdout",
     "output_type": "stream",
     "text": [
      "Eating...\n",
      "Flying...\n"
     ]
    }
   ],
   "source": [
    "class Animal:\n",
    "    def eat(self):\n",
    "        print(\"Eating...\")\n",
    "\n",
    "class Flying:\n",
    "    def fly(self):\n",
    "        print(\"Flying...\")\n",
    "\n",
    "class Bird(Animal, Flying):\n",
    "    pass\n",
    "\n",
    "my_bird = Bird()\n",
    "my_bird.eat()  # Inherits the 'eat' method from the Animal class\n",
    "my_bird.fly()  # Inherits the 'fly' method from the Flying class"
   ]
  },
  {
   "cell_type": "code",
   "execution_count": null,
   "id": "fbe3ce45-842f-4b41-9db4-a462aed5ee41",
   "metadata": {},
   "outputs": [],
   "source": [
    "## Multilevel Inheritance: Multilevel inheritance occurs when a derived class inherits from a base class, and then another class inherits from that derived class. It forms a chain of inheritance."
   ]
  },
  {
   "cell_type": "code",
   "execution_count": 6,
   "id": "6d896018-9254-4599-9890-a8ed6a5aa45b",
   "metadata": {},
   "outputs": [
    {
     "name": "stdout",
     "output_type": "stream",
     "text": [
      "Eating...\n",
      "Barking...\n",
      "Guarding...\n"
     ]
    }
   ],
   "source": [
    "class Animal:\n",
    "    def eat(self):\n",
    "        print(\"Eating...\")\n",
    "\n",
    "class Dog(Animal):\n",
    "    def bark(self):\n",
    "        print(\"Barking...\")\n",
    "\n",
    "class Bulldog(Dog):\n",
    "    def guard(self):\n",
    "        print(\"Guarding...\")\n",
    "\n",
    "my_dog = Bulldog()\n",
    "my_dog.eat()    # Inherits the 'eat' method from the Animal class via Dog class\n",
    "my_dog.bark()   # Inherits the 'bark' method from the Dog class\n",
    "my_dog.guard()  # Has its own 'guard' method"
   ]
  },
  {
   "cell_type": "code",
   "execution_count": null,
   "id": "44c92e86-83e5-4663-819e-ab42858d4dc1",
   "metadata": {},
   "outputs": [],
   "source": [
    "## Hierarchical inheritance:\n",
    "## Hierarchical inheritance is a type of inheritance where multiple child classes inherit from a single parent class. Each child class can add ## its own attributes and methods to extend or modify the functionality inherited from the parent class."
   ]
  },
  {
   "cell_type": "code",
   "execution_count": 7,
   "id": "cc87c9c3-a7ee-4f12-866c-74b52128584c",
   "metadata": {},
   "outputs": [
    {
     "name": "stdout",
     "output_type": "stream",
     "text": [
      "Eating...\n",
      "Barking...\n",
      "Eating...\n",
      "Meowing...\n"
     ]
    }
   ],
   "source": [
    "class Animal:\n",
    "    def eat(self):\n",
    "        print(\"Eating...\")\n",
    "\n",
    "class Dog(Animal):\n",
    "    def bark(self):\n",
    "        print(\"Barking...\")\n",
    "\n",
    "class Cat(Animal):\n",
    "    def meow(self):\n",
    "        print(\"Meowing...\")\n",
    "\n",
    "my_dog = Dog()\n",
    "my_cat = Cat()\n",
    "\n",
    "my_dog.eat()    # Inherits the 'eat' method from the Animal class\n",
    "my_dog.bark()   # Has its own 'bark' method\n",
    "\n",
    "my_cat.eat()    # Inherits the 'eat' method from the Animal class\n",
    "my_cat.meow()   # Has its own 'meow' method\n"
   ]
  },
  {
   "cell_type": "code",
   "execution_count": null,
   "id": "bb668dde-ec85-48a7-b80f-6ceb8506fea4",
   "metadata": {},
   "outputs": [],
   "source": []
  }
 ],
 "metadata": {
  "kernelspec": {
   "display_name": "Python 3 (ipykernel)",
   "language": "python",
   "name": "python3"
  },
  "language_info": {
   "codemirror_mode": {
    "name": "ipython",
    "version": 3
   },
   "file_extension": ".py",
   "mimetype": "text/x-python",
   "name": "python",
   "nbconvert_exporter": "python",
   "pygments_lexer": "ipython3",
   "version": "3.10.8"
  }
 },
 "nbformat": 4,
 "nbformat_minor": 5
}
