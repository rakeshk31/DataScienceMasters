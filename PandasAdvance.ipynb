{
 "cells": [
  {
   "cell_type": "code",
   "execution_count": 1,
   "id": "7a0817c7-7afa-46f7-8960-de6e1d92957f",
   "metadata": {},
   "outputs": [
    {
     "name": "stdout",
     "output_type": "stream",
     "text": [
      "   Name  Age      City\n",
      "0  John   25  New York\n",
      "1  Jane   30    London\n",
      "2  Mike   35     Paris\n"
     ]
    }
   ],
   "source": [
    "# # Q1. List any five functions of the pandas library with execution.\n",
    "# Pandas.DataFrame() Creates a new DataFrame.\n",
    "import pandas as pd\n",
    "\n",
    "data = {'Name': ['John', 'Jane', 'Mike'],\n",
    "        'Age': [25, 30, 35],\n",
    "        'City': ['New York', 'London', 'Paris']}\n",
    "\n",
    "df = pd.DataFrame(data)\n",
    "print(df)"
   ]
  },
  {
   "cell_type": "code",
   "execution_count": 3,
   "id": "b18d418a-20fc-4cd3-b83c-3a7181dc12c2",
   "metadata": {},
   "outputs": [
    {
     "name": "stdout",
     "output_type": "stream",
     "text": [
      "   Name  Age      City\n",
      "0  John   25  New York\n",
      "1  Jane   30    London\n"
     ]
    }
   ],
   "source": [
    "# DataFrame.head() - Returns the first n rows of a DataFrame.\n",
    "import pandas as pd\n",
    "\n",
    "data = {'Name': ['John', 'Jane', 'Mike'],\n",
    "        'Age': [25, 30, 35],\n",
    "        'City': ['New York', 'London', 'Paris']}\n",
    "\n",
    "df = pd.DataFrame(data)\n",
    "print(df.head(2))"
   ]
  },
  {
   "cell_type": "code",
   "execution_count": 5,
   "id": "aa4891fc-08ff-41e7-b5aa-d177005efb33",
   "metadata": {},
   "outputs": [
    {
     "name": "stdout",
     "output_type": "stream",
     "text": [
      "<class 'pandas.core.frame.DataFrame'>\n",
      "RangeIndex: 3 entries, 0 to 2\n",
      "Data columns (total 3 columns):\n",
      " #   Column  Non-Null Count  Dtype \n",
      "---  ------  --------------  ----- \n",
      " 0   Name    3 non-null      object\n",
      " 1   Age     3 non-null      int64 \n",
      " 2   City    3 non-null      object\n",
      "dtypes: int64(1), object(2)\n",
      "memory usage: 200.0+ bytes\n"
     ]
    }
   ],
   "source": [
    "# DataFrame.info() - Provides a summary of the DataFrame, including the column names, data types, and non-null values.\n",
    "import pandas as pd\n",
    "\n",
    "data = {'Name': ['John', 'Jane', 'Mike'],\n",
    "        'Age': [25, 30, 35],\n",
    "        'City': ['New York', 'London', 'Paris']}\n",
    "\n",
    "df = pd.DataFrame(data)\n",
    "df.info()\n"
   ]
  },
  {
   "cell_type": "code",
   "execution_count": 6,
   "id": "f1db2654-5b65-4d06-b27c-f0687048ab54",
   "metadata": {},
   "outputs": [
    {
     "name": "stdout",
     "output_type": "stream",
     "text": [
      "        Age\n",
      "count   3.0\n",
      "mean   30.0\n",
      "std     5.0\n",
      "min    25.0\n",
      "25%    27.5\n",
      "50%    30.0\n",
      "75%    32.5\n",
      "max    35.0\n"
     ]
    }
   ],
   "source": [
    "# DataFrame.describe() - Generates descriptive statistics of the DataFrame, such as count, mean, min, max, and quartiles.\n",
    "import pandas as pd\n",
    "\n",
    "data = {'Name': ['John', 'Jane', 'Mike'],\n",
    "        'Age': [25, 30, 35],\n",
    "        'City': ['New York', 'London', 'Paris']}\n",
    "\n",
    "df = pd.DataFrame(data)\n",
    "print(df.describe())"
   ]
  },
  {
   "cell_type": "code",
   "execution_count": 7,
   "id": "5438cc04-2a41-4b79-8e6b-22971d2cee8d",
   "metadata": {},
   "outputs": [
    {
     "name": "stdout",
     "output_type": "stream",
     "text": [
      "   Name  Age\n",
      "0  John   25\n",
      "1  Jane   30\n",
      "2  Mike   35\n"
     ]
    }
   ],
   "source": [
    "# DataFrame.drop() - Removes specified rows or columns from the DataFrame.\n",
    "import pandas as pd\n",
    "\n",
    "data = {'Name': ['John', 'Jane', 'Mike'],\n",
    "        'Age': [25, 30, 35],\n",
    "        'City': ['New York', 'London', 'Paris']}\n",
    "\n",
    "df = pd.DataFrame(data)\n",
    "df.drop('City', axis=1, inplace=True)\n",
    "print(df)"
   ]
  },
  {
   "cell_type": "code",
   "execution_count": 8,
   "id": "8533701f-0588-4f27-9976-06ce74504a25",
   "metadata": {},
   "outputs": [
    {
     "name": "stdout",
     "output_type": "stream",
     "text": [
      "    A   B   C\n",
      "1  10  40  70\n",
      "3  20  50  80\n",
      "5  30  60  90\n"
     ]
    }
   ],
   "source": [
    "# Q2 Given a Pandas DataFrame df with columns 'A', 'B', and 'C', write a Python function to re-index the\n",
    "# DataFrame with a new index that starts from 1 and increments by 2 for each row.\n",
    "import pandas as pd\n",
    "\n",
    "def reindex_dataframe(df):\n",
    "    new_index = pd.RangeIndex(start=1, step=2, stop=len(df)*2)\n",
    "    df.index = new_index\n",
    "    return df\n",
    "\n",
    "# Example usage:\n",
    "data = {'A': [10, 20, 30],\n",
    "        'B': [40, 50, 60],\n",
    "        'C': [70, 80, 90]}\n",
    "df = pd.DataFrame(data)\n",
    "print(reindex_dataframe(df))"
   ]
  },
  {
   "cell_type": "code",
   "execution_count": 10,
   "id": "05164f6f-a02b-413a-9f9a-e529bfbf1bcb",
   "metadata": {},
   "outputs": [
    {
     "name": "stdout",
     "output_type": "stream",
     "text": [
      "Sum of the first three values: 350\n"
     ]
    }
   ],
   "source": [
    "# Q3 You have a Pandas DataFrame df with a column named 'Values'. Write a Python function that iterates over the DataFrame and calculates the sum of the first three values in the 'Values' column. Thefunction should print the sum to the console.\n",
    "import pandas as pd\n",
    "\n",
    "def calculate_sum_of_first_three(df):\n",
    "    values_column = df['Values']\n",
    "    sum_of_first_three = values_column.head(3).sum()\n",
    "    print(\"Sum of the first three values:\", sum_of_first_three)\n",
    "\n",
    "# Example usage:\n",
    "data = {'Values': [100, 120, 130, 40, 50]}\n",
    "df = pd.DataFrame(data)\n",
    "calculate_sum_of_first_three(df)\n"
   ]
  },
  {
   "cell_type": "code",
   "execution_count": 11,
   "id": "93b1873d-157d-4cac-a690-dff29137b5ff",
   "metadata": {},
   "outputs": [
    {
     "name": "stdout",
     "output_type": "stream",
     "text": [
      "                    Text  Word_Count\n",
      "0  This is a sample text           5\n",
      "1   Another text example           3\n",
      "2             Short text           2\n"
     ]
    }
   ],
   "source": [
    "# # Q4  Given a Pandas DataFrame df with a column 'Text', write a Python function to create a new column\n",
    "# 'Word_Count' that contains the number of words in each row of the 'Text' column.\n",
    "import pandas as pd\n",
    "\n",
    "def add_word_count_column(df):\n",
    "    df['Word_Count'] = df['Text'].apply(lambda x: len(str(x).split()))\n",
    "    return df\n",
    "\n",
    "# Example usage:\n",
    "data = {'Text': ['This is a sample text', 'Another text example', 'Short text']}\n",
    "df = pd.DataFrame(data)\n",
    "print(add_word_count_column(df))\n"
   ]
  },
  {
   "cell_type": "code",
   "execution_count": 12,
   "id": "af7dffa0-0819-4f5a-a0c1-ff2a999db02a",
   "metadata": {},
   "outputs": [],
   "source": [
    "# # Q5. How are DataFrame.size() and DataFrame.shape() different?\n",
    "# DataFrame.size returns the total number of elements in the DataFrame, which is equal to the product of the number of rows and columns.\n",
    "# DataFrame.shape returns a tuple containing the number of rows and columns in the DataFrame."
   ]
  },
  {
   "cell_type": "code",
   "execution_count": 1,
   "id": "f319bbc2-e92c-48fc-bc39-40178ff1087b",
   "metadata": {},
   "outputs": [],
   "source": [
    "#Q6.Which function of pandas do we use to read an excel file?"
   ]
  },
  {
   "cell_type": "code",
   "execution_count": 4,
   "id": "2d0a0d90-6544-453c-965e-ccaed1655aa8",
   "metadata": {},
   "outputs": [],
   "source": [
    "#Example \n",
    "import pandas as pd\n",
    "\n",
    "df = pd.read_csv('services.csv')"
   ]
  },
  {
   "cell_type": "code",
   "execution_count": 7,
   "id": "8ea9cce6-0425-4734-bcb0-a18264518148",
   "metadata": {},
   "outputs": [
    {
     "name": "stdout",
     "output_type": "stream",
     "text": [
      "                    Email    Username\n",
      "0    john.doe@example.com    john.doe\n",
      "1  jane.smith@example.com  jane.smith\n",
      "2        mike@example.com        mike\n"
     ]
    }
   ],
   "source": [
    "#Q7. You have a Pandas DataFrame df that contains a column named 'Email' that contains email addresses in the format 'username@domain.com'. Write a Python function that creates a new colum 'Username' in df that contains only the username part of each email address.\n",
    "import pandas as pd\n",
    "\n",
    "def extract_username(df):\n",
    "    df['Username'] = df['Email'].str.split('@').str[0]\n",
    "    return df\n",
    "\n",
    "# Example usage:\n",
    "data = {'Email': ['john.doe@example.com', 'jane.smith@example.com', 'mike@example.com']}\n",
    "df = pd.DataFrame(data)\n",
    "print(extract_username(df))"
   ]
  },
  {
   "cell_type": "code",
   "execution_count": 8,
   "id": "44454108-84a1-489a-bd03-c645672e5dc7",
   "metadata": {},
   "outputs": [
    {
     "name": "stdout",
     "output_type": "stream",
     "text": [
      "   A  B   C\n",
      "1  7  4  15\n",
      "4  6  2   9\n"
     ]
    }
   ],
   "source": [
    "#Q8. You have a Pandas DataFrame df with columns 'A', 'B', and 'C'. Write a Python function that selects\n",
    "#all rows where the value in column 'A' is greater than 5 and the value in column 'B' is less than 10. The\n",
    "#function should return a new DataFrame that contains only the selected rows.\n",
    "import pandas as pd\n",
    "\n",
    "def select_rows(df):\n",
    "    selected_rows = df[(df['A'] > 5) & (df['B'] < 10)]\n",
    "    return selected_rows\n",
    "\n",
    "# Example usage:\n",
    "data = {'A': [3, 7, 2, 9, 6],\n",
    "        'B': [8, 4, 5, 11, 2],\n",
    "        'C': [12, 15, 8, 6, 9]}\n",
    "df = pd.DataFrame(data)\n",
    "selected_df = select_rows(df)\n",
    "print(selected_df)\n"
   ]
  },
  {
   "cell_type": "code",
   "execution_count": 9,
   "id": "87e50ce5-3470-4bf6-94f2-3d951adabcb6",
   "metadata": {},
   "outputs": [
    {
     "name": "stdout",
     "output_type": "stream",
     "text": [
      "Mean: 30.0\n",
      "Median: 30.0\n",
      "Standard Deviation: 15.811388300841896\n"
     ]
    }
   ],
   "source": [
    "#Q9 Given a Pandas DataFrame df with a column 'Values', write a Python function to calculate the mean,\n",
    "median, and standard deviation of the values in the 'Values' column.\n",
    "\n",
    "import pandas as pd\n",
    "\n",
    "def calculate_stats(df):\n",
    "    values_column = df['Values']\n",
    "    mean_value = values_column.mean()\n",
    "    median_value = values_column.median()\n",
    "    std_dev = values_column.std()\n",
    "    return mean_value, median_value, std_dev\n",
    "\n",
    "# Example usage:\n",
    "data = {'Values': [10, 20, 30, 40, 50]}\n",
    "df = pd.DataFrame(data)\n",
    "mean, median, std_dev = calculate_stats(df)\n",
    "print(\"Mean:\", mean)\n",
    "print(\"Median:\", median)\n",
    "print(\"Standard Deviation:\", std_dev)\n"
   ]
  },
  {
   "cell_type": "code",
   "execution_count": 10,
   "id": "1a34f040-eae8-4eea-b08e-ebd8c461de53",
   "metadata": {},
   "outputs": [
    {
     "name": "stdout",
     "output_type": "stream",
     "text": [
      "        Date  Sales  MovingAverage\n",
      "0 2023-01-01     10           10.0\n",
      "1 2023-01-02     20           15.0\n",
      "2 2023-01-03     30           20.0\n",
      "3 2023-01-04     40           25.0\n",
      "4 2023-01-05     50           30.0\n",
      "5 2023-01-06     60           35.0\n",
      "6 2023-01-07     70           40.0\n",
      "7 2023-01-08     80           50.0\n",
      "8 2023-01-09     90           60.0\n",
      "9 2023-01-10    100           70.0\n"
     ]
    }
   ],
   "source": [
    "# # Q10 Given a Pandas DataFrame df with a column 'Sales' and a column 'Date', write a Python function to\n",
    "# create a new column 'MovingAverage' that contains the moving average of the sales for the past 7 days\n",
    "# for each row in the DataFrame. The moving average should be calculated using a window of size 7 and\n",
    "# should include the current day.\n",
    "\n",
    "\n",
    "import pandas as pd\n",
    "\n",
    "def calculate_moving_average(df):\n",
    "    df['MovingAverage'] = df['Sales'].rolling(window=7, min_periods=1).mean()\n",
    "    return df\n",
    "\n",
    "# Example usage:\n",
    "data = {'Date': pd.date_range('2023-01-01', periods=10),\n",
    "        'Sales': [10, 20, 30, 40, 50, 60, 70, 80, 90, 100]}\n",
    "df = pd.DataFrame(data)\n",
    "df = calculate_moving_average(df)\n",
    "print(df)\n"
   ]
  },
  {
   "cell_type": "code",
   "execution_count": 1,
   "id": "b0c017b4-b729-4027-8f0b-570302af04db",
   "metadata": {},
   "outputs": [],
   "source": [
    "# #Q11.Q11. You have a Pandas DataFrame df with a column 'Date'. Write a Python function that creates a new\n",
    "# column 'Weekday' in the DataFrame. The 'Weekday' column should contain the weekday name (e.g.\n",
    "# Monday, Tuesday) corresponding to each date in the 'Date' column.\n",
    "\n",
    "# A: import pandas as pd\n",
    "\n",
    "# def add_weekday_column(df, date_column_name='Date', new_column_name='Weekday'):\n",
    "#     df[new_column_name] = df[date_column_name].dt.weekday_name\n",
    "#     return df"
   ]
  },
  {
   "cell_type": "code",
   "execution_count": null,
   "id": "ce4ab566-1a13-4120-8de8-0155bde91a17",
   "metadata": {},
   "outputs": [],
   "source": [
    "# # Q12. Given a Pandas DataFrame df with a column 'Date' that contains timestamps, write a Python\n",
    "# # function to select all rows where the date is between '2023-01-01' and '2023-01-31'.\n",
    "# # Anwser : \n",
    "# import pandas as pd\n",
    "\n",
    "# def select_rows_between_dates(df, date_column_name='Date', start_date='2023-01-01', end_date='2023-01-31'):\n",
    "#     df[date_column_name] = pd.to_datetime(df[date_column_name])  # Convert the column to datetime if it's not already\n",
    "#     mask = (df[date_column_name] >= start_date) & (df[date_column_name] <= end_date)\n",
    "#     selected_rows = df[mask]\n",
    "#     return selected_rows\n"
   ]
  },
  {
   "cell_type": "code",
   "execution_count": 2,
   "id": "8c0d9074-6e8f-4c63-927e-008033e07918",
   "metadata": {},
   "outputs": [],
   "source": [
    "# Q13. To use the basic functions of pandas, what is the first and foremost necessary library that needs to\n",
    "# be imported?\n",
    "# Anwser :\n",
    "# The first and foremost necessary library that needs to be imported to use the basic functions of pandas is the pandas library itself. The pandas library provides the DataFrame data structure and various data manipulation functions.\n",
    "\n",
    "import pandas as pd\n"
   ]
  },
  {
   "cell_type": "code",
   "execution_count": null,
   "id": "99169eb8-c78c-4293-997a-713fee0d721d",
   "metadata": {},
   "outputs": [],
   "source": []
  }
 ],
 "metadata": {
  "kernelspec": {
   "display_name": "Python 3 (ipykernel)",
   "language": "python",
   "name": "python3"
  },
  "language_info": {
   "codemirror_mode": {
    "name": "ipython",
    "version": 3
   },
   "file_extension": ".py",
   "mimetype": "text/x-python",
   "name": "python",
   "nbconvert_exporter": "python",
   "pygments_lexer": "ipython3",
   "version": "3.10.8"
  }
 },
 "nbformat": 4,
 "nbformat_minor": 5
}
