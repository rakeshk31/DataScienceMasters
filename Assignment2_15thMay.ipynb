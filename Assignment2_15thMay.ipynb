{
 "cells": [
  {
   "cell_type": "markdown",
   "id": "b71dadb3-ae5e-43ad-a34c-f18c9191d7f2",
   "metadata": {},
   "source": [
    "\n",
    "Q1. How do you comment code in Python? What are the different types of comments?\n",
    " A: In Python, you can add comments to your code to provide explanatory or descriptive text that   is ignored by the interpreter. \n",
    "    There are two types of comments \n",
    "       1.\tSingle-line Comment: Single-line comments are used to add comments on a single line\n",
    "            To create a single-line comment in Python, you can use the # character. Everything following the # on that line is considered a comment\n",
    "      2.\tMulti-line Comment: Multi-line comments are used to add comments that span multiple lines. A multi-line comment is created using triple               quotes(\"\"\",''')  at the beginning and end of the comment block\n",
    "\n",
    "Q2. What are variables in Python? How do you declare and assign values to variables?\n",
    "A:  variable is a named location in the computer's memory that can hold a value. It allows you to store and manipulate data during the execution of       a program. Syntax for declare and assign, shown below.\n",
    "        Variable name = value\n",
    "          a = 2.\n",
    "Q3. How do you convert one data type to another in Python?\n",
    "A:  We can convert one data type to another in two ways.\n",
    "     1.\tImplicit conversion: when you perform arithmetic operations between different data types, Python may implicitly convert them to a common type.\n",
    "     2.\tExplicit Conversion: Using built in functions like int(), float(), str(), tuple(), list()\n",
    "Q4. How do you write and execute a Python script from the command line?\n",
    "A:\n",
    "      •\tOpen a text editor or an integrated development environment (IDE) of your choice. \n",
    "      •\tWrite your Python code in the text editor and save the file with a .py extension. For example, you can create a file named script.py.\n",
    "      •\tOpen the command-line interface (such as Terminal on macOS or Command Prompt on Windows).\n",
    "      •\tNavigate to the directory where the Python script is saved\n",
    "      •\tThen type Python ‘filename’\n",
    "\n"
   ]
  },
  {
   "cell_type": "code",
   "execution_count": 2,
   "id": "106d3bdf-daf5-49a5-9083-434f48124268",
   "metadata": {},
   "outputs": [
    {
     "data": {
      "text/plain": [
       "[2, 3]"
      ]
     },
     "execution_count": 2,
     "metadata": {},
     "output_type": "execute_result"
    }
   ],
   "source": [
    "##Q5. Given a list my_list = [1, 2, 3, 4, 5], write the code to slice the list and obtain the sub-list [2, 3].\n",
    "my_list = [1,2,3,4,5]\n",
    "my_list[1:3]"
   ]
  },
  {
   "cell_type": "raw",
   "id": "a74292a4-699b-4362-9bc5-c71fb9611ee7",
   "metadata": {},
   "source": [
    "Q6. What is a complex number in mathematics, and how is it represented in Python?\n",
    "A:   In mathematics, a complex number is a number that comprises both a real part and an imaginary part. It is expressed in the form a + bi, where a        is the real part, b is the imaginary part, and i is the imaginary unit (√-1).\n",
    "      a = 2+3j\n",
    "Q7. What is the correct way to declare a variable named age and assign the value 25 to it?\n",
    "A:  age = 25\n"
   ]
  },
  {
   "cell_type": "code",
   "execution_count": 3,
   "id": "1b4a8c96-b95d-4a43-a380-7b9e86100aaa",
   "metadata": {},
   "outputs": [
    {
     "data": {
      "text/plain": [
       "float"
      ]
     },
     "execution_count": 3,
     "metadata": {},
     "output_type": "execute_result"
    }
   ],
   "source": [
    "##Q8. Declare a variable named price and assign the value 9.99 to it. What data type does this variable belong to?\n",
    "price = 9.99\n",
    "type(price)"
   ]
  },
  {
   "cell_type": "code",
   "execution_count": 5,
   "id": "ced02973-d59b-44c7-a81b-5c7488f227d8",
   "metadata": {},
   "outputs": [
    {
     "name": "stdout",
     "output_type": "stream",
     "text": [
      "Rakesh\n"
     ]
    }
   ],
   "source": [
    "##Q9. Create a variable named name and assign your full name to it as a string. How would you print the value of this variable?\n",
    "name = \"Rakesh\"\n",
    "print(name)"
   ]
  },
  {
   "cell_type": "code",
   "execution_count": 8,
   "id": "ba66d51f-ba63-4bf5-b30d-561ac41c6c9b",
   "metadata": {},
   "outputs": [
    {
     "data": {
      "text/plain": [
       "'World'"
      ]
     },
     "execution_count": 8,
     "metadata": {},
     "output_type": "execute_result"
    }
   ],
   "source": [
    "##Q10. Given the string \"Hello, World!\", extract the substring \"World\".\n",
    "word = \"Hello, World!\"\n",
    "word[7:12]"
   ]
  },
  {
   "cell_type": "code",
   "execution_count": 9,
   "id": "21ad4eab-58a4-49c9-a35b-891cf58ed934",
   "metadata": {},
   "outputs": [],
   "source": [
    "##Q11. Create a variable named \"is_student\" and assign it a boolean value indicating whether you are currently a student or not.\n",
    "is_student = False"
   ]
  },
  {
   "cell_type": "code",
   "execution_count": null,
   "id": "31e00891-dc26-4481-b315-6c6c9af43472",
   "metadata": {},
   "outputs": [],
   "source": []
  }
 ],
 "metadata": {
  "kernelspec": {
   "display_name": "Python 3 (ipykernel)",
   "language": "python",
   "name": "python3"
  },
  "language_info": {
   "codemirror_mode": {
    "name": "ipython",
    "version": 3
   },
   "file_extension": ".py",
   "mimetype": "text/x-python",
   "name": "python",
   "nbconvert_exporter": "python",
   "pygments_lexer": "ipython3",
   "version": "3.10.8"
  }
 },
 "nbformat": 4,
 "nbformat_minor": 5
}
