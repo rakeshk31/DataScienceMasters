{
 "cells": [
  {
   "cell_type": "code",
   "execution_count": null,
   "id": "5c57de5f-1f6e-49a2-bb84-4a46226761e7",
   "metadata": {},
   "outputs": [],
   "source": [
    "## Q1. Create a vehicle class with an init method having instance variables as name_of_vehicle, max_speed\n",
    "## and average_of_vehicle."
   ]
  },
  {
   "cell_type": "code",
   "execution_count": 1,
   "id": "ce6bd84b-9b2b-47b0-b54b-043f2fdb63d3",
   "metadata": {},
   "outputs": [],
   "source": [
    "class Vehicle:\n",
    "\n",
    "  def __init__(self, name_of_vehicle, max_speed, average_speed):\n",
    "    self.name_of_vehicle = name_of_vehicle\n",
    "    self.max_speed = max_speed\n",
    "    self.average_speed = average_speed"
   ]
  },
  {
   "cell_type": "code",
   "execution_count": 2,
   "id": "4d2cc623-bc81-4e3f-b11e-df7910cc1c91",
   "metadata": {},
   "outputs": [
    {
     "name": "stdout",
     "output_type": "stream",
     "text": [
      "Car\n"
     ]
    }
   ],
   "source": [
    "vehicle1 = Vehicle(\"Car\", 200, 100)\n",
    "print(vehicle1.name_of_vehicle)"
   ]
  },
  {
   "cell_type": "code",
   "execution_count": null,
   "id": "701db4c7-eb4e-4127-bbd2-3395dd7cee08",
   "metadata": {},
   "outputs": [],
   "source": [
    "## Q2.Create a child class car from the vehicle class created in Que 1, which will inherit the vehicle class.\n",
    "## Create a method named seating_capacity which takes capacity as an argument and returns the name of\n",
    "## the vehicle and its seating capacity."
   ]
  },
  {
   "cell_type": "code",
   "execution_count": 4,
   "id": "5db170fd-3038-42c7-90c7-7f5e0b9d9567",
   "metadata": {},
   "outputs": [
    {
     "name": "stdout",
     "output_type": "stream",
     "text": [
      "The name of the vehicle is BMW and its seating capacity is 5\n"
     ]
    }
   ],
   "source": [
    "class Vehicle:\n",
    "\n",
    "  def __init__(self, name_of_vehicle, max_speed, average_speed):\n",
    "    self.name_of_vehicle = name_of_vehicle\n",
    "    self.max_speed = max_speed\n",
    "    self.average_speed = average_speed\n",
    "\n",
    "  def print_details(self):\n",
    "    print(f\"Name of vehicle: {self.name_of_vehicle}\")\n",
    "    print(f\"Maximum speed: {self.max_speed}\")\n",
    "    print(f\"Average speed: {self.average_speed}\")\n",
    "\n",
    "\n",
    "class Car(Vehicle):\n",
    "\n",
    "  def seating_capacity(self, capacity):\n",
    "    return f\"The name of the vehicle is {self.name_of_vehicle} and its seating capacity is {capacity}\"\n",
    "\n",
    "\n",
    "\n",
    "car1 = Car(\"BMW\",200, 100)\n",
    "seating_capacity = car1.seating_capacity(5)\n",
    "\n",
    "# Print the seating capacity of the car\n",
    "print(seating_capacity)"
   ]
  },
  {
   "cell_type": "code",
   "execution_count": null,
   "id": "bc6ce5e9-2474-4a89-bebf-1a5d6ac1dbe0",
   "metadata": {},
   "outputs": [],
   "source": [
    "## Q3.What is multiple inheritance? Write a python code to demonstrate multiple inheritance.\n",
    "## A : Multiple inheritance:\n",
    "## Multiple inheritance allows a class to inherit from multiple parent classes. The child class inherits attributes and methods from all the parent classes. This type of inheritance enables you to combine functionalities from different classes into a single class. However, it can lead to complexities if there are naming conflicts between the parent classes."
   ]
  },
  {
   "cell_type": "code",
   "execution_count": 5,
   "id": "a47edd7a-12b1-4646-bcf3-0aa0b65e9535",
   "metadata": {},
   "outputs": [
    {
     "name": "stdout",
     "output_type": "stream",
     "text": [
      "Eating...\n",
      "Flying...\n"
     ]
    }
   ],
   "source": [
    "class Animal:\n",
    "    def eat(self):\n",
    "        print(\"Eating...\")\n",
    "\n",
    "class Flying:\n",
    "    def fly(self):\n",
    "        print(\"Flying...\")\n",
    "\n",
    "class Bird(Animal, Flying):\n",
    "    pass\n",
    "\n",
    "my_bird = Bird()\n",
    "my_bird.eat()  # Inherits the 'eat' method from the Animal class\n",
    "my_bird.fly()  # Inherits the 'fly' method from the Flying class"
   ]
  },
  {
   "cell_type": "code",
   "execution_count": null,
   "id": "6e27bf44-7b89-4138-8d45-1736f2c82e16",
   "metadata": {},
   "outputs": [],
   "source": [
    "## Q4. What are getter and setter in python? Create a class and create a getter and a setter method in this\n",
    "## class.\n",
    "##  A: Getter: A getter is a method that returns the value of an attribute.\n",
    "##      Setter: A setter is a method that sets the value of an attribute."
   ]
  },
  {
   "cell_type": "code",
   "execution_count": 7,
   "id": "131f3f25-ed66-4880-bb65-fa95cc3837ec",
   "metadata": {},
   "outputs": [
    {
     "name": "stdout",
     "output_type": "stream",
     "text": [
      "Hello\n",
      "world\n"
     ]
    }
   ],
   "source": [
    "class Person:\n",
    "    def __init__(self, name):\n",
    "        self._name = name  # Note the underscore convention for indicating a private attribute\n",
    "\n",
    "    def get_name(self):\n",
    "        return self._name\n",
    "\n",
    "    def set_name(self, new_name):\n",
    "        self._name = new_name\n",
    "\n",
    "person = Person(\"Hello\")\n",
    "print(person.get_name())  # Outputs: Alice\n",
    "\n",
    "person.set_name(\"world\")\n",
    "print(person.get_name())  # Outputs: Bob\n"
   ]
  },
  {
   "cell_type": "code",
   "execution_count": null,
   "id": "1d971e2d-f71f-498f-841b-efe56375bf46",
   "metadata": {},
   "outputs": [],
   "source": [
    "## Q5.What is method overriding in python? Write a python code to demonstrate method overriding.\n",
    "## A : Method overriding in Python refers to the ability of a subclass to provide its own implementation of a method that is already defined in its superclass. The overriding method in the subclass has the same name, parameters, and return type as the method in the superclass but provides a different implementation."
   ]
  },
  {
   "cell_type": "code",
   "execution_count": 14,
   "id": "f98dcb10-caac-4223-b01b-49de68fb0d68",
   "metadata": {},
   "outputs": [],
   "source": [
    "class parent :\n",
    "    def method(self):\n",
    "        print('this is parent method')\n",
    "class child(parent):\n",
    "     def method(self):\n",
    "        print('this is child method')"
   ]
  },
  {
   "cell_type": "code",
   "execution_count": 15,
   "id": "edd41369-8179-427c-b859-bd74b5d8ee2e",
   "metadata": {},
   "outputs": [
    {
     "name": "stdout",
     "output_type": "stream",
     "text": [
      "this is child method\n"
     ]
    }
   ],
   "source": [
    "obj = child()\n",
    "obj.method()"
   ]
  },
  {
   "cell_type": "code",
   "execution_count": null,
   "id": "c998db6b-e5b0-4dbd-9cf7-2716e6ac4587",
   "metadata": {},
   "outputs": [],
   "source": []
  }
 ],
 "metadata": {
  "kernelspec": {
   "display_name": "Python 3 (ipykernel)",
   "language": "python",
   "name": "python3"
  },
  "language_info": {
   "codemirror_mode": {
    "name": "ipython",
    "version": 3
   },
   "file_extension": ".py",
   "mimetype": "text/x-python",
   "name": "python",
   "nbconvert_exporter": "python",
   "pygments_lexer": "ipython3",
   "version": "3.10.8"
  }
 },
 "nbformat": 4,
 "nbformat_minor": 5
}
