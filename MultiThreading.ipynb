{
 "cells": [
  {
   "cell_type": "code",
   "execution_count": 1,
   "id": "058b34cd-823a-4355-8782-38712d5b6fa7",
   "metadata": {},
   "outputs": [],
   "source": [
    "## Q1. what is multithreading in python? why is it used? Name the module used to handle threads in python\n",
    "## A. Multithreading in Python refers to the ability of a program to concurrently execute multiple threads of execution.\n",
    "##    The primary module used to handle threads in Python is the threading module.\n",
    "##     Multithreading is used to achieve concurrent execution and improve the performance of certain types of programs and some key reasons are Concurrency, responsiveness , Resource Sharing"
   ]
  },
  {
   "cell_type": "code",
   "execution_count": 2,
   "id": "9df8520a-bf53-405a-a229-faf4c9888157",
   "metadata": {},
   "outputs": [],
   "source": [
    "## Q2.why threading module used? write the use of the following functions\n",
    "# activeCount()\n",
    "# currentThread()\n",
    "# enumerate()\n",
    "## A. The threading module in Python is used to handle threads and provides a high-level interface for creating, managing, and synchronizing threads. It offers various functions and methods to control and interact with threads"
   ]
  },
  {
   "cell_type": "code",
   "execution_count": 3,
   "id": "4c4ac94a-77a5-476d-b740-19b373cc7ed5",
   "metadata": {},
   "outputs": [],
   "source": [
    "#  activeCount() function: This function is used to return the number of Thread objects currently alive and managed by the threading module. It returns an integer representing the count of active threads.\n",
    "# currentThread() function: This function returns the current Thread object, corresponding to the thread from which it is called. It allows you to obtain a reference to the currently executing thread.\n",
    "# enumerate() function: This function returns a list of all Thread objects currently alive and managed by the threading module. It is useful for obtaining a list of active threads and can be used for inspection or manipulation purposes."
   ]
  },
  {
   "cell_type": "code",
   "execution_count": 5,
   "id": "444a8840-1bfc-4152-9278-3dba43ac119e",
   "metadata": {},
   "outputs": [],
   "source": [
    "# Q3. Explain below mehtods\n",
    "# A:\n",
    "# run()\n",
    "# The run() method is an instance method defined in the Thread class. It represents the code that will be executed by a thread when started. You can override this method in a custom thread class to define the specific behavior of the thread.\n",
    "# start()\n",
    "# The start() method is used to start a thread and begin its execution. It creates a new thread of execution and calls the run() method of the thread. The start() method returns immediately, allowing the main program to continue execution while the newly created thread runs concurrently.\n",
    "# join()\n",
    "# The join() method is used to wait for a thread to complete its execution. When a thread calls the join() method, the calling thread is blocked until the thread being joined completes. This allows for synchronization between threads, ensuring that certain operations are performed only after a specific thread has finished\n",
    "#isAlive()\n",
    "# The isAlive() method is used to check if a thread is currently active and running. It returns a boolean value indicating whether the thread is alive or not. A thread is considered alive if it has been started and has not yet completed its execution\n"
   ]
  },
  {
   "cell_type": "code",
   "execution_count": 6,
   "id": "ae6c73ef-bde1-46c3-911f-995d7e298dcf",
   "metadata": {},
   "outputs": [],
   "source": [
    "# Q4. write a python program to create two threads. Thread one must print the list of squares and thread\n",
    "#      two must print the list of cubes"
   ]
  },
  {
   "cell_type": "code",
   "execution_count": 7,
   "id": "fa5024f3-b09c-4e2e-a1b0-9454538581e9",
   "metadata": {},
   "outputs": [
    {
     "name": "stdout",
     "output_type": "stream",
     "text": [
      "Square of 1: 1\n",
      "Square of 2: 4\n",
      "Square of 3: 9\n",
      "Square of 4: 16\n",
      "Square of 5: 25\n",
      "Square of 6: 36\n",
      "Square of 7: 49\n",
      "Square of 8: 64\n",
      "Square of 9: 81\n",
      "Square of 10: 100\n",
      "Cube of 1: 1\n",
      "Cube of 2: 8\n",
      "Cube of 3: 27\n",
      "Cube of 4: 64\n",
      "Cube of 5: 125\n",
      "Cube of 6: 216\n",
      "Cube of 7: 343\n",
      "Cube of 8: 512\n",
      "Cube of 9: 729\n",
      "Cube of 10: 1000\n",
      "Main thread exiting\n"
     ]
    }
   ],
   "source": [
    "import threading\n",
    "\n",
    "def print_squares():\n",
    "    for num in range(1, 11):\n",
    "        square = num ** 2\n",
    "        print(f\"Square of {num}: {square}\")\n",
    "\n",
    "def print_cubes():\n",
    "    for num in range(1, 11):\n",
    "        cube = num ** 3\n",
    "        print(f\"Cube of {num}: {cube}\")\n",
    "\n",
    "# Create and start the first thread for squares\n",
    "thread1 = threading.Thread(target=print_squares)\n",
    "\n",
    "# Create and start the second thread for cubes\n",
    "thread2 = threading.Thread(target=print_cubes)\n",
    "\n",
    "# Start both threads\n",
    "thread1.start()\n",
    "thread2.start()\n",
    "\n",
    "# Wait for both threads to complete\n",
    "thread1.join()\n",
    "thread2.join()\n",
    "\n",
    "print(\"Main thread exiting\")"
   ]
  },
  {
   "cell_type": "code",
   "execution_count": 8,
   "id": "fd8ef40a-4df0-49a5-aa3c-522192d7b86d",
   "metadata": {},
   "outputs": [],
   "source": [
    "# Q5. State advantages and disadvantages of multithreading"
   ]
  },
  {
   "cell_type": "code",
   "execution_count": 9,
   "id": "d9dc5064-91c5-4bfc-abbb-8fc54bb9fa57",
   "metadata": {},
   "outputs": [],
   "source": [
    "## Multithreading in programming offers several advantages and disadvantages. Let's explore them:\n",
    "\n",
    "## Advantages of Multithreading:\n",
    "## 1. Concurrency and Responsiveness:** Multithreading allows multiple tasks to run concurrently, providing increased responsiveness and improved performance. It enables efficient utilization of system resources by executing different threads simultaneously.\n",
    "\n",
    "## 2. Parallelism and Performance:** Multithreading can leverage parallelism in systems with multiple processor cores. By dividing a task into multiple threads, it allows for parallel execution, leading to improved performance and faster completion of tasks.\n",
    "\n",
    "## 3. Resource Sharing:** Threads within the same process can share data and resources, such as memory, files, and database connections, without the need for complex and costly inter-process communication (IPC) mechanisms.\n",
    "\n",
    "\n",
    "##   Disadvantages of Multithreading:\n",
    "##  1. **Complexity and Difficulty:** Multithreaded programming introduces additional complexity due to shared resources, synchronization, and potential concurrency issues. It requires careful consideration and understanding of thread safety, race conditions, and synchronization mechanisms.\n",
    "\n",
    "## 2. **Debugging and Testing:** Debugging multithreaded applications can be challenging. Issues such as race conditions, deadlocks, and thread synchronization problems can be difficult to reproduce and diagnose. Proper testing and debugging techniques are required to ensure the correctness of multithreaded code.\n",
    "\n",
    "##  3. **Increased Memory Consumption:** Each thread has its own stack, which consumes additional memory. Creating too many threads or allocating excessive memory for each thread can lead to increased memory usage and potentially impact overall performance.\n",
    "\n"
   ]
  },
  {
   "cell_type": "code",
   "execution_count": null,
   "id": "880b4d35-1bf4-4cf4-ad0e-8847e0cb92f3",
   "metadata": {},
   "outputs": [],
   "source": [
    "# Q6. Explain deadlocks and race conditions.\n",
    "# A. Deadlock:\n",
    "#    A deadlock is a situation in concurrent programming where two or more threads are blocked forever, waiting for each other to release resources that they hold. Deadlocks occur when there is a circular dependency between threads or processes, and each is waiting for a resource that the other holds, resulting in a deadlock state.\n",
    "#    Race Condition :A race condition occurs in concurrent programming when the behavior of a program depends on the relative ordering of execution of multiple threads or processes. It arises when two or more threads access shared data concurrently, and the final outcome depends on the timing and interleaving of their execution.\n",
    "#    Consider a scenario where two threads, Thread A and Thread B, increment a shared variable count simultaneously. If both threads read the current value of count at the same time, increment it, and write it back, a race condition can occur. The final value of count may not be the expected value, as both threads can overwrite each other's changes"
   ]
  }
 ],
 "metadata": {
  "kernelspec": {
   "display_name": "Python 3 (ipykernel)",
   "language": "python",
   "name": "python3"
  },
  "language_info": {
   "codemirror_mode": {
    "name": "ipython",
    "version": 3
   },
   "file_extension": ".py",
   "mimetype": "text/x-python",
   "name": "python",
   "nbconvert_exporter": "python",
   "pygments_lexer": "ipython3",
   "version": "3.10.8"
  }
 },
 "nbformat": 4,
 "nbformat_minor": 5
}
