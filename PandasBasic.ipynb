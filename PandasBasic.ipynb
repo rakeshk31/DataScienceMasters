{
 "cells": [
  {
   "cell_type": "code",
   "execution_count": 8,
   "id": "7f79b0aa-d6ef-4b03-88ba-a5161e58d515",
   "metadata": {},
   "outputs": [
    {
     "name": "stdout",
     "output_type": "stream",
     "text": [
      "0     4\n",
      "1     8\n",
      "2    15\n",
      "3    16\n",
      "4    23\n",
      "5    42\n",
      "dtype: int64\n"
     ]
    }
   ],
   "source": [
    "# Q1. Create a Pandas Series that contains the following data: 4, 8, 15, 16, 23, and 42. Then, print the series.\n",
    "import pandas as pd\n",
    "\n",
    "data = [4, 8, 15, 16, 23, 42]\n",
    "series = pd.Series(data)\n",
    "\n",
    "print(series)"
   ]
  },
  {
   "cell_type": "code",
   "execution_count": 4,
   "id": "91a7a6da-d4f7-425f-9a9a-c57185c789a3",
   "metadata": {},
   "outputs": [
    {
     "name": "stdout",
     "output_type": "stream",
     "text": [
      "0     1\n",
      "1     2\n",
      "2     3\n",
      "3     4\n",
      "4     5\n",
      "5     6\n",
      "6     7\n",
      "7     8\n",
      "8     9\n",
      "9    10\n",
      "dtype: int64\n"
     ]
    }
   ],
   "source": [
    "# Q2. Create a variable of list type containing 10 elements in it, and apply pandas.Series function on the\n",
    "# variable print it.\n",
    "llist = [1, 2, 3, 4, 5, 6, 7, 8, 9, 10]\n",
    "series = pd.Series(llist)\n",
    "\n",
    "print(series)\n"
   ]
  },
  {
   "cell_type": "code",
   "execution_count": 6,
   "id": "a0d381a0-4923-4a1e-ba77-f49e75681fbf",
   "metadata": {},
   "outputs": [
    {
     "name": "stdout",
     "output_type": "stream",
     "text": [
      "     Name  Age  Gender\n",
      "0   Alice   25  Female\n",
      "1     Bob   30    Male\n",
      "2  Claire   27  Female\n"
     ]
    }
   ],
   "source": [
    "#Q3 Create a Pandas DataFrame that contains the following data\n",
    "data = {\n",
    "    'Name': ['Alice', 'Bob', 'Claire'],\n",
    "    'Age': [25, 30, 27],\n",
    "    'Gender': ['Female', 'Male', 'Female']\n",
    "}\n",
    "\n",
    "df = pd.DataFrame(data)\n",
    "print(df)\n"
   ]
  },
  {
   "cell_type": "code",
   "execution_count": null,
   "id": "d5ea900e-5823-4f53-aefa-5a0f3fa1d78b",
   "metadata": {},
   "outputs": [],
   "source": [
    "# Q4. What is ‘DataFrame’ in pandas and how is it different from pandas.series? Explain with an example.\n",
    "# A : In Pandas, a DataFrame is a two-dimensional tabular data structure that consists of rows and columns. It is a primary data structure used for data manipulation and analysis. A DataFrame can be seen as a collection of Pandas Series, where each Series represents a column.\n",
    "#     A Pandas Series, on the other hand, is a one-dimensional array-like object that can store data of any type. It is often considered as a single column of a DataFrame."
   ]
  },
  {
   "cell_type": "code",
   "execution_count": 7,
   "id": "4cf4dedf-f2a2-45fb-bfad-c6440cbcd560",
   "metadata": {},
   "outputs": [
    {
     "name": "stdout",
     "output_type": "stream",
     "text": [
      "DataFrame:\n",
      "   Name  Age  Gender\n",
      "0  John   25    Male\n",
      "1  Jane   30  Female\n",
      "2  Mike   35    Male\n",
      "\n",
      "Series:\n",
      "0    John\n",
      "1    Jane\n",
      "2    Mike\n",
      "Name: Name, dtype: object\n"
     ]
    }
   ],
   "source": [
    "import pandas as pd\n",
    "\n",
    "# Example DataFrame\n",
    "data = {\n",
    "    'Name': ['John', 'Jane', 'Mike'],\n",
    "    'Age': [25, 30, 35],\n",
    "    'Gender': ['Male', 'Female', 'Male']\n",
    "}\n",
    "\n",
    "df = pd.DataFrame(data)\n",
    "\n",
    "# Example Series\n",
    "name_series = df['Name']\n",
    "\n",
    "print(\"DataFrame:\")\n",
    "print(df)\n",
    "print(\"\\nSeries:\")\n",
    "print(name_series)"
   ]
  },
  {
   "cell_type": "code",
   "execution_count": null,
   "id": "76953bdc-802f-4b21-9782-6595b76cd51f",
   "metadata": {},
   "outputs": [],
   "source": [
    "# # Q5. What are some common functions you can use to manipulate data in a Pandas DataFrame? Can you give an example of when you might use one of these functions?\n",
    "# # A: head() and tail(): These functions are used to view the first few rows (head()) or the last few rows (tail()) of a DataFrame. They are helpful to quickly inspect the structure and contents of the DataFrame.\n",
    "\n",
    "# info(): This function provides a summary of the DataFrame, including the column names, data types, and non-null values. It gives an overview of the data types and allows you to identify missing or inconsistent data.\n",
    "\n",
    "# describe(): It generates descriptive statistics of the numerical columns in the DataFrame, such as count, mean, standard deviation, minimum, maximum, and quartiles. It helps in understanding the distribution and basic statistics of the data.\n",
    "\n",
    "# shape: This attribute returns a tuple representing the dimensions (rows, columns) of the DataFrame. It allows you to check the size of the DataFrame.\n",
    "\n",
    "# fillna(): This function is used to fill missing values in the DataFrame with specified values or strategies. It helps in handling missing data by replacing NaN values with meaningful or appropriate values.\n",
    "\n",
    "# drop(): This function is used to remove specified rows or columns from the DataFrame. It allows you to eliminate unnecessary or redundant data."
   ]
  },
  {
   "cell_type": "code",
   "execution_count": 9,
   "id": "889d60fe-e947-40f7-959c-8064ea9bb1f6",
   "metadata": {},
   "outputs": [
    {
     "name": "stdout",
     "output_type": "stream",
     "text": [
      "Total Sales: 460.0\n"
     ]
    }
   ],
   "source": [
    "# Example DataFrame\n",
    "data = {\n",
    "    'Product': ['A', 'B', 'C', 'D'],\n",
    "    'Sales': [100, 200, None, 150]\n",
    "}\n",
    "\n",
    "df = pd.DataFrame(data)\n",
    "\n",
    "# Fill missing values with 0 and calculate total sales\n",
    "total_sales = df['Sales'].fillna(10).sum()\n",
    "\n",
    "print(\"Total Sales:\", total_sales)"
   ]
  },
  {
   "cell_type": "code",
   "execution_count": 10,
   "id": "661843d9-afac-4586-9355-c692caf45dc6",
   "metadata": {},
   "outputs": [],
   "source": [
    "# Q6.Which of the following is mutable in nature Series, DataFrame, Panel?\n",
    "# A\n",
    "# # In Pandas:\n",
    "\n",
    "# # Series: A Pandas Series is mutable. You can modify its values by assigning new values to specific indices or using methods like loc or at to access and update elements.\n",
    "\n",
    "# # DataFrame: A Pandas DataFrame is also mutable. You can modify its data by assigning new values to specific cells, adding or removing columns, or using various DataFrame manipulation methods.\n",
    "\n",
    "# # Panel: However, Panel is an older data structure in Pandas that has been deprecated in favor of other data structures like Series and DataFrame. Panel is considered to be immutable. Once created, you cannot modify its contents or structure."
   ]
  },
  {
   "cell_type": "code",
   "execution_count": 11,
   "id": "5f1bf180-afbe-4bb7-8a5b-023c5d44e828",
   "metadata": {},
   "outputs": [
    {
     "name": "stdout",
     "output_type": "stream",
     "text": [
      "   Country  Population (Millions)          Capital\n",
      "0      USA                  328.2  Washington D.C.\n",
      "1   Canada                   37.6           Ottawa\n",
      "2  Germany                   83.0           Berlin\n",
      "3   France                   67.0            Paris\n"
     ]
    }
   ],
   "source": [
    "# Q7. Createa DataFrame using multiple Series. Explain with an example.\n",
    "# A \n",
    "import pandas as pd\n",
    "\n",
    "# Creating Series objects\n",
    "country_series = pd.Series(['USA', 'Canada', 'Germany', 'France'])\n",
    "population_series = pd.Series([328.2, 37.6, 83.0, 67.0])\n",
    "capital_series = pd.Series(['Washington D.C.', 'Ottawa', 'Berlin', 'Paris'])\n",
    "\n",
    "# Creating DataFrame using Series\n",
    "data = {\n",
    "    'Country': country_series,\n",
    "    'Population (Millions)': population_series,\n",
    "    'Capital': capital_series\n",
    "}\n",
    "\n",
    "df = pd.DataFrame(data)\n",
    "print(df)\n"
   ]
  },
  {
   "cell_type": "code",
   "execution_count": null,
   "id": "2605a8ce-4bfd-4b20-aede-f85bdce88078",
   "metadata": {},
   "outputs": [],
   "source": []
  }
 ],
 "metadata": {
  "kernelspec": {
   "display_name": "Python 3 (ipykernel)",
   "language": "python",
   "name": "python3"
  },
  "language_info": {
   "codemirror_mode": {
    "name": "ipython",
    "version": 3
   },
   "file_extension": ".py",
   "mimetype": "text/x-python",
   "name": "python",
   "nbconvert_exporter": "python",
   "pygments_lexer": "ipython3",
   "version": "3.10.8"
  }
 },
 "nbformat": 4,
 "nbformat_minor": 5
}
