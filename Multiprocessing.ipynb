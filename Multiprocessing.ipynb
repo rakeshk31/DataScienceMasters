{
 "cells": [
  {
   "cell_type": "code",
   "execution_count": 1,
   "id": "422feeb1-73e9-4aa7-8d36-d0a82ea2b480",
   "metadata": {},
   "outputs": [],
   "source": [
    "## Q1.What is multiprocessing in python? Why is it useful?\n",
    "## Anwser : Multiprocessing in Python refers to the capability of executing multiple processes simultaneously. It involves running multiple instances of a program, each in its own process, with separate memory space. The multiprocessing module in Python provides a way to create and manage multiple processes, allowing for parallel execution and efficient utilization of multiple CPU cores.\n",
    "\n",
    "# Here are some key points highlighting the usefulness of multiprocessing:\n",
    "\n",
    "# 1. **Parallelism and Performance:** Multiprocessing allows for parallel execution of tasks on multiple CPU cores, leading to improved performance and faster completion of computationally intensive or time-consuming operations. It harnesses the power of multiple cores to execute tasks concurrently, distributing the workload and utilizing system resources effectively.\n",
    "\n",
    "# 2. **Increased Throughput:** By dividing a problem into multiple processes, multiprocessing enables processing multiple data elements or tasks simultaneously. This can significantly increase the throughput or processing capacity of an application, especially when dealing with large datasets or performing complex computations.\n",
    "\n",
    "# 3. **CPU-Bound Tasks:** Multiprocessing is particularly beneficial for CPU-bound tasks, where the bottleneck is the processing power of the CPU. By utilizing multiple processes, it allows for efficient utilization of available CPU resources, enabling faster execution and better overall system performance.\n"
   ]
  },
  {
   "cell_type": "code",
   "execution_count": 3,
   "id": "9c3e8a74-5db0-41a6-b5b9-203b73991b49",
   "metadata": {},
   "outputs": [],
   "source": [
    "# Q2. What are the differences between multiprocessing and multithreading?\n",
    "# A. Multiprocessing creates multiple processes that run concurrently on different CPUs. This can improve performance for CPU-bound tasks, such as computationally intensive calculations. However, it also requires more resources, such as memory and CPU time.\n",
    "#    Multithreading creates multiple threads that run concurrently within the same process. This can improve performance for IO-bound tasks, such as reading and writing files. It requires fewer resources than multiprocessing, but it can also be more difficult to implement correctly.\n",
    "\n",
    "\n",
    "\n",
    "##. **Concurrency Model:**\n",
    "##   - Multiprocessing: In multiprocessing, multiple processes run concurrently, each with its own memory space. Processes do not share memory by default, requiring explicit communication mechanisms like pipes, queues, or shared memory for inter-process communication (IPC).\n",
    "##   - Multithreading: In multithreading, multiple threads run concurrently within the same process and share the same memory space. Threads can directly access and modify shared data without the need for explicit communication mechanisms.\n",
    "\n",
    "# **Resource Utilization:**\n",
    "#  - Multiprocessing: Each process in multiprocessing runs independently and can utilize separate CPU cores. This allows for efficient utilization of multiple CPU cores, making it suitable for CPU-bound tasks.\n",
    "#  - Multithreading: Multiple threads in multithreading run within the same process and share the same CPU core. While threads can achieve concurrency, they may not fully utilize multiple CPU cores unless the program involves tasks with significant I/O or concurrent blocking operations.\n",
    "\n",
    "# **Communication and Synchronization:**\n",
    "#   - Multiprocessing: Communication between processes in multiprocessing requires explicit IPC mechanisms like pipes, queues, or shared memory. Synchronization mechanisms like locks or semaphores are used to coordinate access to shared resources.\n",
    "#   - Multithreading: Communication between threads in multithreading is relatively straightforward as they share the same memory space. However, proper synchronization mechanisms, such as locks or mutexes, are required to ensure thread safety and prevent race conditions when accessing shared data.\n",
    "\n"
   ]
  },
  {
   "cell_type": "code",
   "execution_count": 14,
   "id": "754095c9-2d17-490f-b8ab-2fb57f2d2739",
   "metadata": {},
   "outputs": [
    {
     "name": "stdout",
     "output_type": "stream",
     "text": [
      "The square of 1 is 1.\n",
      "\n",
      "The square of 2 is 4.The square of 3 is 9.\n",
      "The square of 4 is 16.\n",
      "The square of 5 is 25.\n",
      "All processes have finished.\n"
     ]
    }
   ],
   "source": [
    "# Q3. Write a python code to create a process using the multiprocessing module.\n",
    "import multiprocessing\n",
    "\n",
    "def calculate_square(number):\n",
    "    \n",
    "    square = number * number\n",
    "    print(f\"The square of {number} is {square}.\")\n",
    "\n",
    "if __name__ == \"__main__\":\n",
    "    numbers = [1, 2, 3, 4, 5]\n",
    "\n",
    "    # Create a new process for each number in the list\n",
    "    processes = []\n",
    "    for number in numbers:\n",
    "        process = multiprocessing.Process(target=calculate_square, args=(number,))\n",
    "        processes.append(process)\n",
    "        process.start()\n",
    "\n",
    "    # Wait for all processes to finish\n",
    "    for process in processes:\n",
    "        process.join()\n",
    "\n",
    "    print(\"All processes have finished.\")\n",
    "\n"
   ]
  },
  {
   "cell_type": "code",
   "execution_count": 15,
   "id": "4e3a4abd-f6b8-46aa-a118-9d585773f3af",
   "metadata": {},
   "outputs": [],
   "source": [
    "# Q4.What is a multiprocessing pool in python? Why is it used?\n",
    "\n",
    "# A multiprocessing pool in Python is a group of worker processes that can be used to execute tasks concurrently. It is a powerful tool that can be used to speed up the execution of CPU-intensive tasks.\n",
    "\n",
    "#  The multiprocessing.Pool class provides a simple interface for creating and managing a multiprocessing pool. To create a pool, you simply need to instantiate a Pool object and then call the apply() or map() methods to submit tasks to the pool.\n",
    "\n",
    "#  The apply() method submits a single task to the pool and returns the result of the task. The map() method submits multiple tasks to the pool and returns a list of the results of the tasks."
   ]
  },
  {
   "cell_type": "code",
   "execution_count": 16,
   "id": "6dcc6b95-9dab-4503-abfb-6cd71fa81f86",
   "metadata": {},
   "outputs": [
    {
     "name": "stdout",
     "output_type": "stream",
     "text": [
      "[1, 1, 2, 6, 24, 120, 720, 5040, 40320, 362880]\n"
     ]
    }
   ],
   "source": [
    "# Q5. How can we create a pool of worker processes in python using the multiprocessing module?\n",
    "import multiprocessing\n",
    "\n",
    "def factorial(n):\n",
    "  return 1 if n == 0 else n * factorial(n - 1)\n",
    "\n",
    "if __name__ == '__main__':\n",
    "  pool = multiprocessing.Pool(4)\n",
    "  results = pool.map(factorial, range(10))\n",
    "  print(results)\n"
   ]
  },
  {
   "cell_type": "code",
   "execution_count": 18,
   "id": "6e0108fe-1ca0-4e27-a2a9-1e0ecdfdc261",
   "metadata": {},
   "outputs": [
    {
     "name": "stdout",
     "output_type": "stream",
     "text": [
      "Process 1: 1\n",
      "Process 4: 4\n",
      "Process 2: 2\n",
      "Process 3: 3\n",
      "\n",
      "\n",
      "\n",
      "\n",
      "All processes have finished.\n"
     ]
    }
   ],
   "source": [
    "# Q6. Write a python program to create 4 processes, each process should print a different number using the multiprocessing module in python.\n",
    "import multiprocessing\n",
    "\n",
    "def print_number(number):\n",
    "    \n",
    "    print(f\"Process {number}: {number}\\n\")\n",
    "\n",
    "if __name__ == \"__main__\":\n",
    "    # Create a list of numbers\n",
    "    numbers = [1, 2, 3, 4]\n",
    "\n",
    "    # Create a pool of worker processes\n",
    "    pool = multiprocessing.Pool()\n",
    "\n",
    "    # Apply the print_number function to each number in parallel\n",
    "    pool.map(print_number, numbers)\n",
    "\n",
    "    # Close the pool and wait for all processes to finish\n",
    "    pool.close()\n",
    "    pool.join()\n",
    "\n",
    "    print(\"All processes have finished.\")\n"
   ]
  },
  {
   "cell_type": "code",
   "execution_count": null,
   "id": "19ba84a9-550f-4cf7-bb0f-74ab6c999e82",
   "metadata": {},
   "outputs": [],
   "source": []
  }
 ],
 "metadata": {
  "kernelspec": {
   "display_name": "Python 3 (ipykernel)",
   "language": "python",
   "name": "python3"
  },
  "language_info": {
   "codemirror_mode": {
    "name": "ipython",
    "version": 3
   },
   "file_extension": ".py",
   "mimetype": "text/x-python",
   "name": "python",
   "nbconvert_exporter": "python",
   "pygments_lexer": "ipython3",
   "version": "3.10.8"
  }
 },
 "nbformat": 4,
 "nbformat_minor": 5
}
